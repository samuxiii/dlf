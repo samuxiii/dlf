{
 "cells": [
  {
   "cell_type": "markdown",
   "metadata": {
    "collapsed": true
   },
   "source": [
    "# Language Translation\n",
    "In this project, you’re going to take a peek into the realm of neural network machine translation.  You’ll be training a sequence to sequence model on a dataset of English and French sentences that can translate new sentences from English to French.\n",
    "## Get the Data\n",
    "Since translating the whole language of English to French will take lots of time to train, we have provided you with a small portion of the English corpus."
   ]
  },
  {
   "cell_type": "code",
   "execution_count": 1,
   "metadata": {
    "collapsed": true
   },
   "outputs": [],
   "source": [
    "\"\"\"\n",
    "DON'T MODIFY ANYTHING IN THIS CELL\n",
    "\"\"\"\n",
    "import helper\n",
    "import problem_unittests as tests\n",
    "\n",
    "source_path = '/data/small_vocab_en'\n",
    "target_path = '/data/small_vocab_fr'\n",
    "source_text = helper.load_data(source_path)\n",
    "target_text = helper.load_data(target_path)"
   ]
  },
  {
   "cell_type": "markdown",
   "metadata": {},
   "source": [
    "## Explore the Data\n",
    "Play around with view_sentence_range to view different parts of the data."
   ]
  },
  {
   "cell_type": "code",
   "execution_count": 2,
   "metadata": {},
   "outputs": [
    {
     "name": "stdout",
     "output_type": "stream",
     "text": [
      "Dataset Stats\n",
      "Roughly the number of unique words: 227\n",
      "Number of sentences: 137861\n",
      "Average number of words in a sentence: 13.225277634719028\n",
      "\n",
      "English sentences 0 to 10:\n",
      "new jersey is sometimes quiet during autumn , and it is snowy in april .\n",
      "the united states is usually chilly during july , and it is usually freezing in november .\n",
      "california is usually quiet during march , and it is usually hot in june .\n",
      "the united states is sometimes mild during june , and it is cold in september .\n",
      "your least liked fruit is the grape , but my least liked is the apple .\n",
      "his favorite fruit is the orange , but my favorite is the grape .\n",
      "paris is relaxing during december , but it is usually chilly in july .\n",
      "new jersey is busy during spring , and it is never hot in march .\n",
      "our least liked fruit is the lemon , but my least liked is the grape .\n",
      "the united states is sometimes busy during january , and it is sometimes warm in november .\n",
      "\n",
      "French sentences 0 to 10:\n",
      "new jersey est parfois calme pendant l' automne , et il est neigeux en avril .\n",
      "les états-unis est généralement froid en juillet , et il gèle habituellement en novembre .\n",
      "california est généralement calme en mars , et il est généralement chaud en juin .\n",
      "les états-unis est parfois légère en juin , et il fait froid en septembre .\n",
      "votre moins aimé fruit est le raisin , mais mon moins aimé est la pomme .\n",
      "son fruit préféré est l'orange , mais mon préféré est le raisin .\n",
      "paris est relaxant en décembre , mais il est généralement froid en juillet .\n",
      "new jersey est occupé au printemps , et il est jamais chaude en mars .\n",
      "notre fruit est moins aimé le citron , mais mon moins aimé est le raisin .\n",
      "les états-unis est parfois occupé en janvier , et il est parfois chaud en novembre .\n"
     ]
    }
   ],
   "source": [
    "view_sentence_range = (0, 10)\n",
    "\n",
    "\"\"\"\n",
    "DON'T MODIFY ANYTHING IN THIS CELL\n",
    "\"\"\"\n",
    "import numpy as np\n",
    "\n",
    "print('Dataset Stats')\n",
    "print('Roughly the number of unique words: {}'.format(len({word: None for word in source_text.split()})))\n",
    "\n",
    "sentences = source_text.split('\\n')\n",
    "word_counts = [len(sentence.split()) for sentence in sentences]\n",
    "print('Number of sentences: {}'.format(len(sentences)))\n",
    "print('Average number of words in a sentence: {}'.format(np.average(word_counts)))\n",
    "\n",
    "print()\n",
    "print('English sentences {} to {}:'.format(*view_sentence_range))\n",
    "print('\\n'.join(source_text.split('\\n')[view_sentence_range[0]:view_sentence_range[1]]))\n",
    "print()\n",
    "print('French sentences {} to {}:'.format(*view_sentence_range))\n",
    "print('\\n'.join(target_text.split('\\n')[view_sentence_range[0]:view_sentence_range[1]]))"
   ]
  },
  {
   "cell_type": "markdown",
   "metadata": {},
   "source": [
    "## Implement Preprocessing Function\n",
    "### Text to Word Ids\n",
    "As you did with other RNNs, you must turn the text into a number so the computer can understand it. In the function `text_to_ids()`, you'll turn `source_text` and `target_text` from words to ids.  However, you need to add the `<EOS>` word id at the end of `target_text`.  This will help the neural network predict when the sentence should end.\n",
    "\n",
    "You can get the `<EOS>` word id by doing:\n",
    "```python\n",
    "target_vocab_to_int['<EOS>']\n",
    "```\n",
    "You can get other word ids using `source_vocab_to_int` and `target_vocab_to_int`."
   ]
  },
  {
   "cell_type": "code",
   "execution_count": 3,
   "metadata": {},
   "outputs": [
    {
     "name": "stdout",
     "output_type": "stream",
     "text": [
      "Tests Passed\n"
     ]
    }
   ],
   "source": [
    "def text_to_ids(source_text, target_text, source_vocab_to_int, target_vocab_to_int):\n",
    "    \"\"\"\n",
    "    Convert source and target text to proper word ids\n",
    "    :param source_text: String that contains all the source text.\n",
    "    :param target_text: String that contains all the target text.\n",
    "    :param source_vocab_to_int: Dictionary to go from the source words to an id\n",
    "    :param target_vocab_to_int: Dictionary to go from the target words to an id\n",
    "    :return: A tuple of lists (source_id_text, target_id_text)\n",
    "    \"\"\"\n",
    "    source_id_text = []\n",
    "    for sentence in source_text.split(\"\\n\"):\n",
    "        source_id_text.append([source_vocab_to_int[word] for word in sentence.split()])\n",
    "\n",
    "    target_id_text = []\n",
    "    for sentence in target_text.split(\"\\n\"):\n",
    "        target_id_text.append([target_vocab_to_int[word] for word in sentence.split()] + [target_vocab_to_int['<EOS>']])\n",
    "\n",
    "    return source_id_text, target_id_text\n",
    "\n",
    "\"\"\"\n",
    "DON'T MODIFY ANYTHING IN THIS CELL THAT IS BELOW THIS LINE\n",
    "\"\"\"\n",
    "tests.test_text_to_ids(text_to_ids)"
   ]
  },
  {
   "cell_type": "markdown",
   "metadata": {},
   "source": [
    "### Preprocess all the data and save it\n",
    "Running the code cell below will preprocess all the data and save it to file."
   ]
  },
  {
   "cell_type": "code",
   "execution_count": 4,
   "metadata": {
    "collapsed": true
   },
   "outputs": [],
   "source": [
    "\"\"\"\n",
    "DON'T MODIFY ANYTHING IN THIS CELL\n",
    "\"\"\"\n",
    "helper.preprocess_and_save_data(source_path, target_path, text_to_ids)"
   ]
  },
  {
   "cell_type": "markdown",
   "metadata": {},
   "source": [
    "# Check Point\n",
    "This is your first checkpoint. If you ever decide to come back to this notebook or have to restart the notebook, you can start from here. The preprocessed data has been saved to disk."
   ]
  },
  {
   "cell_type": "code",
   "execution_count": 5,
   "metadata": {
    "collapsed": true
   },
   "outputs": [],
   "source": [
    "\"\"\"\n",
    "DON'T MODIFY ANYTHING IN THIS CELL\n",
    "\"\"\"\n",
    "import numpy as np\n",
    "import helper\n",
    "\n",
    "(source_int_text, target_int_text), (source_vocab_to_int, target_vocab_to_int), _ = helper.load_preprocess()"
   ]
  },
  {
   "cell_type": "markdown",
   "metadata": {},
   "source": [
    "### Check the Version of TensorFlow and Access to GPU\n",
    "This will check to make sure you have the correct version of TensorFlow and access to a GPU"
   ]
  },
  {
   "cell_type": "code",
   "execution_count": 6,
   "metadata": {},
   "outputs": [
    {
     "name": "stdout",
     "output_type": "stream",
     "text": [
      "TensorFlow Version: 1.1.0\n",
      "Default GPU Device: /gpu:0\n"
     ]
    }
   ],
   "source": [
    "\"\"\"\n",
    "DON'T MODIFY ANYTHING IN THIS CELL\n",
    "\"\"\"\n",
    "from distutils.version import LooseVersion\n",
    "import warnings\n",
    "import tensorflow as tf\n",
    "from tensorflow.python.layers.core import Dense\n",
    "\n",
    "# Check TensorFlow Version\n",
    "assert LooseVersion(tf.__version__) >= LooseVersion('1.1'), 'Please use TensorFlow version 1.1 or newer'\n",
    "print('TensorFlow Version: {}'.format(tf.__version__))\n",
    "\n",
    "# Check for a GPU\n",
    "if not tf.test.gpu_device_name():\n",
    "    warnings.warn('No GPU found. Please use a GPU to train your neural network.')\n",
    "else:\n",
    "    print('Default GPU Device: {}'.format(tf.test.gpu_device_name()))"
   ]
  },
  {
   "cell_type": "markdown",
   "metadata": {},
   "source": [
    "## Build the Neural Network\n",
    "You'll build the components necessary to build a Sequence-to-Sequence model by implementing the following functions below:\n",
    "- `model_inputs`\n",
    "- `process_decoder_input`\n",
    "- `encoding_layer`\n",
    "- `decoding_layer_train`\n",
    "- `decoding_layer_infer`\n",
    "- `decoding_layer`\n",
    "- `seq2seq_model`\n",
    "\n",
    "### Input\n",
    "Implement the `model_inputs()` function to create TF Placeholders for the Neural Network. It should create the following placeholders:\n",
    "\n",
    "- Input text placeholder named \"input\" using the TF Placeholder name parameter with rank 2.\n",
    "- Targets placeholder with rank 2.\n",
    "- Learning rate placeholder with rank 0.\n",
    "- Keep probability placeholder named \"keep_prob\" using the TF Placeholder name parameter with rank 0.\n",
    "- Target sequence length placeholder named \"target_sequence_length\" with rank 1\n",
    "- Max target sequence length tensor named \"max_target_len\" getting its value from applying tf.reduce_max on the target_sequence_length placeholder. Rank 0.\n",
    "- Source sequence length placeholder named \"source_sequence_length\" with rank 1\n",
    "\n",
    "Return the placeholders in the following the tuple (input, targets, learning rate, keep probability, target sequence length, max target sequence length, source sequence length)"
   ]
  },
  {
   "cell_type": "code",
   "execution_count": 7,
   "metadata": {},
   "outputs": [
    {
     "name": "stdout",
     "output_type": "stream",
     "text": [
      "Tests Passed\n"
     ]
    }
   ],
   "source": [
    "def model_inputs():\n",
    "    \"\"\"\n",
    "    Create TF Placeholders for input, targets, learning rate, and lengths of source and target sequences.\n",
    "    :return: Tuple (input, targets, learning rate, keep probability, target sequence length,\n",
    "    max target sequence length, source sequence length)\n",
    "    \"\"\"\n",
    "    \n",
    "    inputs = tf.placeholder(tf.int32, [None, None], name='input')\n",
    "    targets = tf.placeholder(tf.int32, [None, None], name='targets')\n",
    "    lr = tf.placeholder(tf.float32)\n",
    "    kp = tf.placeholder(tf.float32, name='keep_prob')\n",
    "    t_seq_length = tf.placeholder(tf.int32, [None], name='target_sequence_length')\n",
    "    max_t_length = tf.reduce_max(t_seq_length, name='max_target_len')\n",
    "    s_seq_length = tf.placeholder(tf.int32, [None], name='source_sequence_length')\n",
    "    \n",
    "    return inputs, targets, lr, kp, t_seq_length, max_t_length, s_seq_length\n",
    "\n",
    "\"\"\"\n",
    "DON'T MODIFY ANYTHING IN THIS CELL THAT IS BELOW THIS LINE\n",
    "\"\"\"\n",
    "tests.test_model_inputs(model_inputs)"
   ]
  },
  {
   "cell_type": "markdown",
   "metadata": {},
   "source": [
    "### Process Decoder Input\n",
    "Implement `process_decoder_input` by removing the last word id from each batch in `target_data` and concat the GO ID to the begining of each batch."
   ]
  },
  {
   "cell_type": "code",
   "execution_count": 8,
   "metadata": {},
   "outputs": [
    {
     "name": "stdout",
     "output_type": "stream",
     "text": [
      "Tests Passed\n"
     ]
    }
   ],
   "source": [
    "def process_decoder_input(target_data, target_vocab_to_int, batch_size):\n",
    "    \"\"\"\n",
    "    Preprocess target data for encoding\n",
    "    :param target_data: Target Placehoder\n",
    "    :param target_vocab_to_int: Dictionary to go from the target words to an id\n",
    "    :param batch_size: Batch Size\n",
    "    :return: Preprocessed target data\n",
    "    \"\"\"\n",
    "    data_without_end = tf.strided_slice(target_data, [0,0], [batch_size, -1], [1,1])\n",
    "    go = tf.fill([batch_size, 1], target_vocab_to_int['<GO>'])\n",
    "    data = tf.concat( [go, data_without_end], 1)\n",
    "    \n",
    "    return data\n",
    "\n",
    "\"\"\"\n",
    "DON'T MODIFY ANYTHING IN THIS CELL THAT IS BELOW THIS LINE\n",
    "\"\"\"\n",
    "tests.test_process_encoding_input(process_decoder_input)"
   ]
  },
  {
   "cell_type": "markdown",
   "metadata": {},
   "source": [
    "### Encoding\n",
    "Implement `encoding_layer()` to create a Encoder RNN layer:\n",
    " * Embed the encoder input using [`tf.contrib.layers.embed_sequence`](https://www.tensorflow.org/api_docs/python/tf/contrib/layers/embed_sequence)\n",
    " * Construct a [stacked](https://github.com/tensorflow/tensorflow/blob/6947f65a374ebf29e74bb71e36fd82760056d82c/tensorflow/docs_src/tutorials/recurrent.md#stacking-multiple-lstms) [`tf.contrib.rnn.LSTMCell`](https://www.tensorflow.org/api_docs/python/tf/contrib/rnn/LSTMCell) wrapped in a [`tf.contrib.rnn.DropoutWrapper`](https://www.tensorflow.org/api_docs/python/tf/contrib/rnn/DropoutWrapper)\n",
    " * Pass cell and embedded input to [`tf.nn.dynamic_rnn()`](https://www.tensorflow.org/api_docs/python/tf/nn/dynamic_rnn)"
   ]
  },
  {
   "cell_type": "code",
   "execution_count": 9,
   "metadata": {
    "scrolled": false
   },
   "outputs": [
    {
     "name": "stdout",
     "output_type": "stream",
     "text": [
      "Tests Passed\n"
     ]
    }
   ],
   "source": [
    "from imp import reload\n",
    "reload(tests)\n",
    "\n",
    "def encoding_layer(rnn_inputs, rnn_size, num_layers, keep_prob, \n",
    "                   source_sequence_length, source_vocab_size, \n",
    "                   encoding_embedding_size):\n",
    "    \"\"\"\n",
    "    Create encoding layer\n",
    "    :param rnn_inputs: Inputs for the RNN\n",
    "    :param rnn_size: RNN Size\n",
    "    :param num_layers: Number of layers\n",
    "    :param keep_prob: Dropout keep probability\n",
    "    :param source_sequence_length: a list of the lengths of each sequence in the batch\n",
    "    :param source_vocab_size: vocabulary size of source data\n",
    "    :param encoding_embedding_size: embedding size of source data\n",
    "    :return: tuple (RNN output, RNN state)\n",
    "    \"\"\"\n",
    "    \n",
    "    input_embed = tf.contrib.layers.embed_sequence(rnn_inputs, source_vocab_size, encoding_embedding_size)\n",
    "    \n",
    "    def cell():\n",
    "        #!!!!! defining weights initializer improves the results...\n",
    "        stddev = 1/np.sqrt(rnn_size)\n",
    "        wi = tf.truncated_normal_initializer(stddev=stddev, seed=42)\n",
    "        lstm = tf.contrib.rnn.LSTMCell(rnn_size, initializer=wi)\n",
    "        drop = tf.contrib.rnn.DropoutWrapper(lstm, keep_prob, seed=42)\n",
    "        return drop\n",
    "    \n",
    "    stacked_lstm = tf.contrib.rnn.MultiRNNCell([cell() for _ in range(num_layers)])     \n",
    "    output, state = tf.nn.dynamic_rnn(stacked_lstm, \n",
    "                                      input_embed, sequence_length=source_sequence_length, \n",
    "                                      dtype=tf.float32)\n",
    "    \n",
    "    return output, state\n",
    "\n",
    "\"\"\"\n",
    "DON'T MODIFY ANYTHING IN THIS CELL THAT IS BELOW THIS LINE\n",
    "\"\"\"\n",
    "tests.test_encoding_layer(encoding_layer)"
   ]
  },
  {
   "cell_type": "markdown",
   "metadata": {},
   "source": [
    "### Decoding - Training\n",
    "Create a training decoding layer:\n",
    "* Create a [`tf.contrib.seq2seq.TrainingHelper`](https://www.tensorflow.org/api_docs/python/tf/contrib/seq2seq/TrainingHelper) \n",
    "* Create a [`tf.contrib.seq2seq.BasicDecoder`](https://www.tensorflow.org/api_docs/python/tf/contrib/seq2seq/BasicDecoder)\n",
    "* Obtain the decoder outputs from [`tf.contrib.seq2seq.dynamic_decode`](https://www.tensorflow.org/api_docs/python/tf/contrib/seq2seq/dynamic_decode)"
   ]
  },
  {
   "cell_type": "code",
   "execution_count": 10,
   "metadata": {},
   "outputs": [
    {
     "name": "stdout",
     "output_type": "stream",
     "text": [
      "Tests Passed\n"
     ]
    }
   ],
   "source": [
    "\n",
    "def decoding_layer_train(encoder_state, dec_cell, dec_embed_input, \n",
    "                         target_sequence_length, max_summary_length, \n",
    "                         output_layer, keep_prob):\n",
    "    \"\"\"\n",
    "    Create a decoding layer for training\n",
    "    :param encoder_state: Encoder State\n",
    "    :param dec_cell: Decoder RNN Cell\n",
    "    :param dec_embed_input: Decoder embedded input\n",
    "    :param target_sequence_length: The lengths of each sequence in the target batch\n",
    "    :param max_summary_length: The length of the longest sequence in the batch\n",
    "    :param output_layer: Function to apply the output layer\n",
    "    :param keep_prob: Dropout keep probability\n",
    "    :return: BasicDecoderOutput containing training logits and sample_id\n",
    "    \"\"\"\n",
    "\n",
    "    training_helper = tf.contrib.seq2seq.TrainingHelper(dec_embed_input, target_sequence_length)\n",
    "    \n",
    "    #regularize using dropout\n",
    "    dec_cell = tf.contrib.rnn.DropoutWrapper(dec_cell, keep_prob)\n",
    "    basic_decoder = tf.contrib.seq2seq.BasicDecoder(dec_cell, training_helper, encoder_state, output_layer)\n",
    "    \n",
    "    outputs, _ = tf.contrib.seq2seq.dynamic_decode(basic_decoder, impute_finished = True, maximum_iterations=max_summary_length)\n",
    "        \n",
    "    return outputs\n",
    "\n",
    "\n",
    "\n",
    "\"\"\"\n",
    "DON'T MODIFY ANYTHING IN THIS CELL THAT IS BELOW THIS LINE\n",
    "\"\"\"\n",
    "tests.test_decoding_layer_train(decoding_layer_train)"
   ]
  },
  {
   "cell_type": "markdown",
   "metadata": {},
   "source": [
    "### Decoding - Inference\n",
    "Create inference decoder:\n",
    "* Create a [`tf.contrib.seq2seq.GreedyEmbeddingHelper`](https://www.tensorflow.org/api_docs/python/tf/contrib/seq2seq/GreedyEmbeddingHelper)\n",
    "* Create a [`tf.contrib.seq2seq.BasicDecoder`](https://www.tensorflow.org/api_docs/python/tf/contrib/seq2seq/BasicDecoder)\n",
    "* Obtain the decoder outputs from [`tf.contrib.seq2seq.dynamic_decode`](https://www.tensorflow.org/api_docs/python/tf/contrib/seq2seq/dynamic_decode)"
   ]
  },
  {
   "cell_type": "code",
   "execution_count": 11,
   "metadata": {
    "scrolled": true
   },
   "outputs": [
    {
     "name": "stdout",
     "output_type": "stream",
     "text": [
      "Tests Passed\n"
     ]
    }
   ],
   "source": [
    "def decoding_layer_infer(encoder_state, dec_cell, dec_embeddings, start_of_sequence_id,\n",
    "                         end_of_sequence_id, max_target_sequence_length,\n",
    "                         vocab_size, output_layer, batch_size, keep_prob):\n",
    "    \"\"\"\n",
    "    Create a decoding layer for inference\n",
    "    :param encoder_state: Encoder state\n",
    "    :param dec_cell: Decoder RNN Cell\n",
    "    :param dec_embeddings: Decoder embeddings\n",
    "    :param start_of_sequence_id: GO ID\n",
    "    :param end_of_sequence_id: EOS Id\n",
    "    :param max_target_sequence_length: Maximum length of target sequences\n",
    "    :param vocab_size: Size of decoder/target vocabulary\n",
    "    :param decoding_scope: TenorFlow Variable Scope for decoding\n",
    "    :param output_layer: Function to apply the output layer\n",
    "    :param batch_size: Batch size\n",
    "    :param keep_prob: Dropout keep probability\n",
    "    :return: BasicDecoderOutput containing inference logits and sample_id\n",
    "    \"\"\"\n",
    "\n",
    "    #create vector of start tokens\n",
    "    start_tokens = tf.tile(tf.constant([start_of_sequence_id], dtype=tf.int32), [batch_size])\n",
    "    greedy_helper = tf.contrib.seq2seq.GreedyEmbeddingHelper(dec_embeddings, \n",
    "                                                             start_tokens, \n",
    "                                                             end_of_sequence_id)\n",
    "    \n",
    "    #apply dropout\n",
    "    drop_dec_cell = tf.contrib.rnn.DropoutWrapper(dec_cell, keep_prob)\n",
    "    \n",
    "    basic_decoder = tf.contrib.seq2seq.BasicDecoder(drop_dec_cell, greedy_helper, encoder_state, output_layer)\n",
    "    outputs, _ = tf.contrib.seq2seq.dynamic_decode(basic_decoder, \n",
    "                                                   impute_finished = True, \n",
    "                                                   maximum_iterations=max_target_sequence_length)\n",
    "    \n",
    "    \n",
    "    return outputs\n",
    "\n",
    "\"\"\"\n",
    "DON'T MODIFY ANYTHING IN THIS CELL THAT IS BELOW THIS LINE\n",
    "\"\"\"\n",
    "tests.test_decoding_layer_infer(decoding_layer_infer)"
   ]
  },
  {
   "cell_type": "markdown",
   "metadata": {},
   "source": [
    "### Build the Decoding Layer\n",
    "Implement `decoding_layer()` to create a Decoder RNN layer.\n",
    "\n",
    "* Embed the target sequences\n",
    "* Construct the decoder LSTM cell (just like you constructed the encoder cell above)\n",
    "* Create an output layer to map the outputs of the decoder to the elements of our vocabulary\n",
    "* Use the your `decoding_layer_train(encoder_state, dec_cell, dec_embed_input, target_sequence_length, max_target_sequence_length, output_layer, keep_prob)` function to get the training logits.\n",
    "* Use your `decoding_layer_infer(encoder_state, dec_cell, dec_embeddings, start_of_sequence_id, end_of_sequence_id, max_target_sequence_length, vocab_size, output_layer, batch_size, keep_prob)` function to get the inference logits.\n",
    "\n",
    "Note: You'll need to use [tf.variable_scope](https://www.tensorflow.org/api_docs/python/tf/variable_scope) to share variables between training and inference."
   ]
  },
  {
   "cell_type": "code",
   "execution_count": 15,
   "metadata": {},
   "outputs": [
    {
     "name": "stdout",
     "output_type": "stream",
     "text": [
      "Tests Passed\n"
     ]
    }
   ],
   "source": [
    "def decoding_layer(dec_input, encoder_state,\n",
    "                   target_sequence_length, max_target_sequence_length,\n",
    "                   rnn_size,\n",
    "                   num_layers, target_vocab_to_int, target_vocab_size,\n",
    "                   batch_size, keep_prob, decoding_embedding_size):\n",
    "    \"\"\"\n",
    "    Create decoding layer\n",
    "    :param dec_input: Decoder input\n",
    "    :param encoder_state: Encoder state\n",
    "    :param target_sequence_length: The lengths of each sequence in the target batch\n",
    "    :param max_target_sequence_length: Maximum length of target sequences\n",
    "    :param rnn_size: RNN Size\n",
    "    :param num_layers: Number of layers\n",
    "    :param target_vocab_to_int: Dictionary to go from the target words to an id\n",
    "    :param target_vocab_size: Size of target vocabulary\n",
    "    :param batch_size: The size of the batch\n",
    "    :param keep_prob: Dropout keep probability\n",
    "    :param decoding_embedding_size: Decoding embedding size\n",
    "    :return: Tuple of (Training BasicDecoderOutput, Inference BasicDecoderOutput)\n",
    "    \"\"\"\n",
    "    #embed\n",
    "    dec_embeddings = tf.Variable(tf.random_uniform([target_vocab_size, decoding_embedding_size]))\n",
    "    dec_embed_input = tf.nn.embedding_lookup(dec_embeddings, dec_input)\n",
    "    \n",
    "    #lstm\n",
    "    def cell():\n",
    "        #!!!!! defining weights initializer improves the results...\n",
    "        stddev = 1/np.sqrt(rnn_size)\n",
    "        wi = tf.truncated_normal_initializer(stddev=stddev, seed=42)\n",
    "        lstm = tf.contrib.rnn.LSTMCell(rnn_size, initializer=wi)\n",
    "        return lstm\n",
    "    \n",
    "    stacked_lstm = tf.contrib.rnn.MultiRNNCell([cell() for _ in range(num_layers)])\n",
    "    \n",
    "    #output layer\n",
    "    stddev = 1/np.sqrt(decoding_embedding_size)\n",
    "    kinit = tf.truncated_normal_initializer(stddev=stddev, seed=42)\n",
    "    output_layer = Dense(target_vocab_size, kernel_initializer = kinit)\n",
    "    \n",
    "    \n",
    "    #decoding layer traing\n",
    "    with tf.variable_scope(\"decode\"):\n",
    "        training_decoder = decoding_layer_train(encoder_state, \n",
    "                                                 stacked_lstm, \n",
    "                                                 dec_embed_input, \n",
    "                                                 target_sequence_length, \n",
    "                                                 max_target_sequence_length, \n",
    "                                                 output_layer, \n",
    "                                                 keep_prob)\n",
    "    \n",
    "    #decoding layer inference\n",
    "    with tf.variable_scope(\"decode\", reuse=True):\n",
    "        inference_decoder = decoding_layer_infer(encoder_state, \n",
    "                                                 stacked_lstm, \n",
    "                                                 dec_embeddings, \n",
    "                                                 target_vocab_to_int['<GO>'],#start_of_sequence_id \n",
    "                                                 target_vocab_to_int['<EOS>'],#end_of_sequence_id \n",
    "                                                 max_target_sequence_length, \n",
    "                                                 target_vocab_size, \n",
    "                                                 output_layer, \n",
    "                                                 batch_size, \n",
    "                                                 keep_prob)\n",
    "    \n",
    "    return training_decoder, inference_decoder\n",
    "\n",
    "\n",
    "\n",
    "\"\"\"\n",
    "DON'T MODIFY ANYTHING IN THIS CELL THAT IS BELOW THIS LINE\n",
    "\"\"\"\n",
    "tests.test_decoding_layer(decoding_layer)"
   ]
  },
  {
   "cell_type": "markdown",
   "metadata": {},
   "source": [
    "### Build the Neural Network\n",
    "Apply the functions you implemented above to:\n",
    "\n",
    "- Encode the input using your `encoding_layer(rnn_inputs, rnn_size, num_layers, keep_prob,  source_sequence_length, source_vocab_size, encoding_embedding_size)`.\n",
    "- Process target data using your `process_decoder_input(target_data, target_vocab_to_int, batch_size)` function.\n",
    "- Decode the encoded input using your `decoding_layer(dec_input, enc_state, target_sequence_length, max_target_sentence_length, rnn_size, num_layers, target_vocab_to_int, target_vocab_size, batch_size, keep_prob, dec_embedding_size)` function."
   ]
  },
  {
   "cell_type": "code",
   "execution_count": 16,
   "metadata": {},
   "outputs": [
    {
     "name": "stdout",
     "output_type": "stream",
     "text": [
      "Tests Passed\n"
     ]
    }
   ],
   "source": [
    "def seq2seq_model(input_data, target_data, keep_prob, batch_size,\n",
    "                  source_sequence_length, target_sequence_length,\n",
    "                  max_target_sentence_length,\n",
    "                  source_vocab_size, target_vocab_size,\n",
    "                  enc_embedding_size, dec_embedding_size,\n",
    "                  rnn_size, num_layers, target_vocab_to_int):\n",
    "    \"\"\"\n",
    "    Build the Sequence-to-Sequence part of the neural network\n",
    "    :param input_data: Input placeholder\n",
    "    :param target_data: Target placeholder\n",
    "    :param keep_prob: Dropout keep probability placeholder\n",
    "    :param batch_size: Batch Size\n",
    "    :param source_sequence_length: Sequence Lengths of source sequences in the batch\n",
    "    :param target_sequence_length: Sequence Lengths of target sequences in the batch\n",
    "    :param source_vocab_size: Source vocabulary size\n",
    "    :param target_vocab_size: Target vocabulary size\n",
    "    :param enc_embedding_size: Decoder embedding size\n",
    "    :param dec_embedding_size: Encoder embedding size\n",
    "    :param rnn_size: RNN Size\n",
    "    :param num_layers: Number of layers\n",
    "    :param target_vocab_to_int: Dictionary to go from the target words to an id\n",
    "    :return: Tuple of (Training BasicDecoderOutput, Inference BasicDecoderOutput)\n",
    "    \"\"\"\n",
    "\n",
    "    #we have to ignore the output, only we need the encoder state\n",
    "    _, enc_state = encoding_layer(input_data, \n",
    "                                   rnn_size, \n",
    "                                   num_layers, \n",
    "                                   keep_prob,  \n",
    "                                   source_sequence_length, \n",
    "                                   source_vocab_size, \n",
    "                                   enc_embedding_size)\n",
    "\n",
    "    dec_input = process_decoder_input(target_data, target_vocab_to_int, batch_size)\n",
    "    \n",
    "    return decoding_layer(dec_input, \n",
    "                          enc_state, \n",
    "                          target_sequence_length, \n",
    "                          max_target_sentence_length, \n",
    "                          rnn_size, num_layers, \n",
    "                          target_vocab_to_int, \n",
    "                          target_vocab_size, \n",
    "                          batch_size, \n",
    "                          keep_prob, \n",
    "                          dec_embedding_size)\n",
    "\n",
    "\n",
    "\"\"\"\n",
    "DON'T MODIFY ANYTHING IN THIS CELL THAT IS BELOW THIS LINE\n",
    "\"\"\"\n",
    "tests.test_seq2seq_model(seq2seq_model)"
   ]
  },
  {
   "cell_type": "markdown",
   "metadata": {},
   "source": [
    "## Neural Network Training\n",
    "### Hyperparameters\n",
    "Tune the following parameters:\n",
    "\n",
    "- Set `epochs` to the number of epochs.\n",
    "- Set `batch_size` to the batch size.\n",
    "- Set `rnn_size` to the size of the RNNs.\n",
    "- Set `num_layers` to the number of layers.\n",
    "- Set `encoding_embedding_size` to the size of the embedding for the encoder.\n",
    "- Set `decoding_embedding_size` to the size of the embedding for the decoder.\n",
    "- Set `learning_rate` to the learning rate.\n",
    "- Set `keep_probability` to the Dropout keep probability\n",
    "- Set `display_step` to state how many steps between each debug output statement"
   ]
  },
  {
   "cell_type": "code",
   "execution_count": 17,
   "metadata": {
    "collapsed": true
   },
   "outputs": [],
   "source": [
    "# Number of Epochs\n",
    "epochs = 3\n",
    "# Batch Size\n",
    "batch_size = 256\n",
    "# RNN Size\n",
    "rnn_size = 128\n",
    "# Number of Layers\n",
    "num_layers = 1\n",
    "# Embedding Size\n",
    "encoding_embedding_size = 128\n",
    "decoding_embedding_size = 128\n",
    "# Learning Rate\n",
    "learning_rate = 0.01\n",
    "# Dropout Keep Probability\n",
    "keep_probability = 0.7\n",
    "display_step = 10"
   ]
  },
  {
   "cell_type": "markdown",
   "metadata": {},
   "source": [
    "### Build the Graph\n",
    "Build the graph using the neural network you implemented."
   ]
  },
  {
   "cell_type": "code",
   "execution_count": 18,
   "metadata": {
    "collapsed": true
   },
   "outputs": [],
   "source": [
    "\"\"\"\n",
    "DON'T MODIFY ANYTHING IN THIS CELL\n",
    "\"\"\"\n",
    "save_path = 'checkpoints/dev'\n",
    "(source_int_text, target_int_text), (source_vocab_to_int, target_vocab_to_int), _ = helper.load_preprocess()\n",
    "max_target_sentence_length = max([len(sentence) for sentence in source_int_text])\n",
    "\n",
    "train_graph = tf.Graph()\n",
    "with train_graph.as_default():\n",
    "    input_data, targets, lr, keep_prob, target_sequence_length, max_target_sequence_length, source_sequence_length = model_inputs()\n",
    "\n",
    "    #sequence_length = tf.placeholder_with_default(max_target_sentence_length, None, name='sequence_length')\n",
    "    input_shape = tf.shape(input_data)\n",
    "\n",
    "    train_logits, inference_logits = seq2seq_model(tf.reverse(input_data, [-1]),\n",
    "                                                   targets,\n",
    "                                                   keep_prob,\n",
    "                                                   batch_size,\n",
    "                                                   source_sequence_length,\n",
    "                                                   target_sequence_length,\n",
    "                                                   max_target_sequence_length,\n",
    "                                                   len(source_vocab_to_int),\n",
    "                                                   len(target_vocab_to_int),\n",
    "                                                   encoding_embedding_size,\n",
    "                                                   decoding_embedding_size,\n",
    "                                                   rnn_size,\n",
    "                                                   num_layers,\n",
    "                                                   target_vocab_to_int)\n",
    "\n",
    "\n",
    "    training_logits = tf.identity(train_logits.rnn_output, name='logits')\n",
    "    inference_logits = tf.identity(inference_logits.sample_id, name='predictions')\n",
    "\n",
    "    masks = tf.sequence_mask(target_sequence_length, max_target_sequence_length, dtype=tf.float32, name='masks')\n",
    "\n",
    "    with tf.name_scope(\"optimization\"):\n",
    "        # Loss function\n",
    "        cost = tf.contrib.seq2seq.sequence_loss(\n",
    "            training_logits,\n",
    "            targets,\n",
    "            masks)\n",
    "\n",
    "        # Optimizer\n",
    "        optimizer = tf.train.AdamOptimizer(lr)\n",
    "\n",
    "        # Gradient Clipping\n",
    "        gradients = optimizer.compute_gradients(cost)\n",
    "        capped_gradients = [(tf.clip_by_value(grad, -1., 1.), var) for grad, var in gradients if grad is not None]\n",
    "        train_op = optimizer.apply_gradients(capped_gradients)\n"
   ]
  },
  {
   "cell_type": "markdown",
   "metadata": {},
   "source": [
    "Batch and pad the source and target sequences"
   ]
  },
  {
   "cell_type": "code",
   "execution_count": 19,
   "metadata": {
    "collapsed": true
   },
   "outputs": [],
   "source": [
    "\"\"\"\n",
    "DON'T MODIFY ANYTHING IN THIS CELL\n",
    "\"\"\"\n",
    "def pad_sentence_batch(sentence_batch, pad_int):\n",
    "    \"\"\"Pad sentences with <PAD> so that each sentence of a batch has the same length\"\"\"\n",
    "    max_sentence = max([len(sentence) for sentence in sentence_batch])\n",
    "    return [sentence + [pad_int] * (max_sentence - len(sentence)) for sentence in sentence_batch]\n",
    "\n",
    "\n",
    "def get_batches(sources, targets, batch_size, source_pad_int, target_pad_int):\n",
    "    \"\"\"Batch targets, sources, and the lengths of their sentences together\"\"\"\n",
    "    for batch_i in range(0, len(sources)//batch_size):\n",
    "        start_i = batch_i * batch_size\n",
    "\n",
    "        # Slice the right amount for the batch\n",
    "        sources_batch = sources[start_i:start_i + batch_size]\n",
    "        targets_batch = targets[start_i:start_i + batch_size]\n",
    "\n",
    "        # Pad\n",
    "        pad_sources_batch = np.array(pad_sentence_batch(sources_batch, source_pad_int))\n",
    "        pad_targets_batch = np.array(pad_sentence_batch(targets_batch, target_pad_int))\n",
    "\n",
    "        # Need the lengths for the _lengths parameters\n",
    "        pad_targets_lengths = []\n",
    "        for target in pad_targets_batch:\n",
    "            pad_targets_lengths.append(len(target))\n",
    "\n",
    "        pad_source_lengths = []\n",
    "        for source in pad_sources_batch:\n",
    "            pad_source_lengths.append(len(source))\n",
    "\n",
    "        yield pad_sources_batch, pad_targets_batch, pad_source_lengths, pad_targets_lengths\n"
   ]
  },
  {
   "cell_type": "markdown",
   "metadata": {},
   "source": [
    "### Train\n",
    "Train the neural network on the preprocessed data. If you have a hard time getting a good loss, check the forms to see if anyone is having the same problem."
   ]
  },
  {
   "cell_type": "code",
   "execution_count": 20,
   "metadata": {
    "scrolled": true
   },
   "outputs": [
    {
     "name": "stdout",
     "output_type": "stream",
     "text": [
      "Epoch   0 Batch   10/538 - Train Accuracy: 0.2643, Validation Accuracy: 0.3516, Loss: 3.2578\n",
      "Epoch   0 Batch   20/538 - Train Accuracy: 0.3542, Validation Accuracy: 0.4007, Loss: 2.3881\n",
      "Epoch   0 Batch   30/538 - Train Accuracy: 0.4031, Validation Accuracy: 0.4638, Loss: 1.8706\n",
      "Epoch   0 Batch   40/538 - Train Accuracy: 0.4856, Validation Accuracy: 0.4892, Loss: 1.2317\n",
      "Epoch   0 Batch   50/538 - Train Accuracy: 0.5092, Validation Accuracy: 0.5352, Loss: 1.0663\n",
      "Epoch   0 Batch   60/538 - Train Accuracy: 0.5055, Validation Accuracy: 0.5277, Loss: 0.9215\n",
      "Epoch   0 Batch   70/538 - Train Accuracy: 0.5273, Validation Accuracy: 0.5534, Loss: 0.8147\n",
      "Epoch   0 Batch   80/538 - Train Accuracy: 0.5238, Validation Accuracy: 0.5753, Loss: 0.8184\n",
      "Epoch   0 Batch   90/538 - Train Accuracy: 0.5534, Validation Accuracy: 0.5708, Loss: 0.7398\n",
      "Epoch   0 Batch  100/538 - Train Accuracy: 0.5943, Validation Accuracy: 0.5955, Loss: 0.6812\n",
      "Epoch   0 Batch  110/538 - Train Accuracy: 0.5672, Validation Accuracy: 0.6161, Loss: 0.6692\n",
      "Epoch   0 Batch  120/538 - Train Accuracy: 0.6242, Validation Accuracy: 0.6298, Loss: 0.6004\n",
      "Epoch   0 Batch  130/538 - Train Accuracy: 0.6460, Validation Accuracy: 0.6497, Loss: 0.5498\n",
      "Epoch   0 Batch  140/538 - Train Accuracy: 0.6287, Validation Accuracy: 0.6799, Loss: 0.5683\n",
      "Epoch   0 Batch  150/538 - Train Accuracy: 0.6756, Validation Accuracy: 0.6578, Loss: 0.5133\n",
      "Epoch   0 Batch  160/538 - Train Accuracy: 0.6951, Validation Accuracy: 0.6863, Loss: 0.4576\n",
      "Epoch   0 Batch  170/538 - Train Accuracy: 0.7137, Validation Accuracy: 0.7131, Loss: 0.4456\n",
      "Epoch   0 Batch  180/538 - Train Accuracy: 0.7573, Validation Accuracy: 0.7299, Loss: 0.4002\n",
      "Epoch   0 Batch  190/538 - Train Accuracy: 0.7435, Validation Accuracy: 0.7401, Loss: 0.3835\n",
      "Epoch   0 Batch  200/538 - Train Accuracy: 0.7498, Validation Accuracy: 0.7530, Loss: 0.3420\n",
      "Epoch   0 Batch  210/538 - Train Accuracy: 0.7578, Validation Accuracy: 0.7695, Loss: 0.3293\n",
      "Epoch   0 Batch  220/538 - Train Accuracy: 0.7682, Validation Accuracy: 0.7779, Loss: 0.2995\n",
      "Epoch   0 Batch  230/538 - Train Accuracy: 0.8055, Validation Accuracy: 0.8075, Loss: 0.2837\n",
      "Epoch   0 Batch  240/538 - Train Accuracy: 0.7973, Validation Accuracy: 0.7933, Loss: 0.2674\n",
      "Epoch   0 Batch  250/538 - Train Accuracy: 0.8373, Validation Accuracy: 0.8042, Loss: 0.2423\n",
      "Epoch   0 Batch  260/538 - Train Accuracy: 0.7997, Validation Accuracy: 0.8127, Loss: 0.2342\n",
      "Epoch   0 Batch  270/538 - Train Accuracy: 0.8105, Validation Accuracy: 0.8210, Loss: 0.2300\n",
      "Epoch   0 Batch  280/538 - Train Accuracy: 0.8428, Validation Accuracy: 0.8272, Loss: 0.2027\n",
      "Epoch   0 Batch  290/538 - Train Accuracy: 0.8389, Validation Accuracy: 0.8413, Loss: 0.1878\n",
      "Epoch   0 Batch  300/538 - Train Accuracy: 0.8350, Validation Accuracy: 0.8526, Loss: 0.1867\n",
      "Epoch   0 Batch  310/538 - Train Accuracy: 0.8752, Validation Accuracy: 0.8509, Loss: 0.1937\n",
      "Epoch   0 Batch  320/538 - Train Accuracy: 0.8452, Validation Accuracy: 0.8466, Loss: 0.1663\n",
      "Epoch   0 Batch  330/538 - Train Accuracy: 0.8750, Validation Accuracy: 0.8564, Loss: 0.1599\n",
      "Epoch   0 Batch  340/538 - Train Accuracy: 0.8572, Validation Accuracy: 0.8596, Loss: 0.1539\n",
      "Epoch   0 Batch  350/538 - Train Accuracy: 0.8765, Validation Accuracy: 0.8572, Loss: 0.1624\n",
      "Epoch   0 Batch  360/538 - Train Accuracy: 0.8609, Validation Accuracy: 0.8784, Loss: 0.1498\n",
      "Epoch   0 Batch  370/538 - Train Accuracy: 0.8748, Validation Accuracy: 0.8745, Loss: 0.1447\n",
      "Epoch   0 Batch  380/538 - Train Accuracy: 0.8830, Validation Accuracy: 0.8752, Loss: 0.1259\n",
      "Epoch   0 Batch  390/538 - Train Accuracy: 0.8875, Validation Accuracy: 0.8642, Loss: 0.1225\n",
      "Epoch   0 Batch  400/538 - Train Accuracy: 0.8927, Validation Accuracy: 0.8858, Loss: 0.1225\n",
      "Epoch   0 Batch  410/538 - Train Accuracy: 0.8932, Validation Accuracy: 0.8688, Loss: 0.1189\n",
      "Epoch   0 Batch  420/538 - Train Accuracy: 0.9002, Validation Accuracy: 0.9032, Loss: 0.1074\n",
      "Epoch   0 Batch  430/538 - Train Accuracy: 0.9020, Validation Accuracy: 0.8853, Loss: 0.1023\n",
      "Epoch   0 Batch  440/538 - Train Accuracy: 0.8842, Validation Accuracy: 0.8942, Loss: 0.1239\n",
      "Epoch   0 Batch  450/538 - Train Accuracy: 0.8808, Validation Accuracy: 0.8885, Loss: 0.1130\n",
      "Epoch   0 Batch  460/538 - Train Accuracy: 0.8622, Validation Accuracy: 0.8899, Loss: 0.1037\n",
      "Epoch   0 Batch  470/538 - Train Accuracy: 0.8968, Validation Accuracy: 0.8770, Loss: 0.0924\n",
      "Epoch   0 Batch  480/538 - Train Accuracy: 0.9081, Validation Accuracy: 0.9061, Loss: 0.0956\n",
      "Epoch   0 Batch  490/538 - Train Accuracy: 0.9038, Validation Accuracy: 0.8883, Loss: 0.0849\n",
      "Epoch   0 Batch  500/538 - Train Accuracy: 0.9119, Validation Accuracy: 0.9036, Loss: 0.0746\n",
      "Epoch   0 Batch  510/538 - Train Accuracy: 0.9384, Validation Accuracy: 0.8960, Loss: 0.0821\n",
      "Epoch   0 Batch  520/538 - Train Accuracy: 0.8984, Validation Accuracy: 0.9073, Loss: 0.0856\n",
      "Epoch   0 Batch  530/538 - Train Accuracy: 0.8771, Validation Accuracy: 0.9086, Loss: 0.0888\n",
      "Epoch   1 Batch   10/538 - Train Accuracy: 0.8939, Validation Accuracy: 0.9247, Loss: 0.0880\n",
      "Epoch   1 Batch   20/538 - Train Accuracy: 0.9260, Validation Accuracy: 0.8947, Loss: 0.0783\n",
      "Epoch   1 Batch   30/538 - Train Accuracy: 0.9027, Validation Accuracy: 0.9055, Loss: 0.0799\n",
      "Epoch   1 Batch   40/538 - Train Accuracy: 0.9185, Validation Accuracy: 0.9235, Loss: 0.0591\n",
      "Epoch   1 Batch   50/538 - Train Accuracy: 0.9150, Validation Accuracy: 0.9187, Loss: 0.0641\n",
      "Epoch   1 Batch   60/538 - Train Accuracy: 0.9205, Validation Accuracy: 0.9098, Loss: 0.0674\n",
      "Epoch   1 Batch   70/538 - Train Accuracy: 0.9189, Validation Accuracy: 0.9013, Loss: 0.0618\n",
      "Epoch   1 Batch   80/538 - Train Accuracy: 0.9172, Validation Accuracy: 0.9290, Loss: 0.0703\n",
      "Epoch   1 Batch   90/538 - Train Accuracy: 0.9116, Validation Accuracy: 0.9258, Loss: 0.0710\n",
      "Epoch   1 Batch  100/538 - Train Accuracy: 0.9256, Validation Accuracy: 0.9180, Loss: 0.0570\n",
      "Epoch   1 Batch  110/538 - Train Accuracy: 0.9217, Validation Accuracy: 0.9217, Loss: 0.0631\n",
      "Epoch   1 Batch  120/538 - Train Accuracy: 0.9389, Validation Accuracy: 0.9169, Loss: 0.0505\n",
      "Epoch   1 Batch  130/538 - Train Accuracy: 0.9462, Validation Accuracy: 0.9251, Loss: 0.0563\n",
      "Epoch   1 Batch  140/538 - Train Accuracy: 0.9197, Validation Accuracy: 0.9295, Loss: 0.0729\n",
      "Epoch   1 Batch  150/538 - Train Accuracy: 0.9418, Validation Accuracy: 0.9375, Loss: 0.0494\n",
      "Epoch   1 Batch  160/538 - Train Accuracy: 0.9062, Validation Accuracy: 0.9249, Loss: 0.0556\n",
      "Epoch   1 Batch  170/538 - Train Accuracy: 0.9206, Validation Accuracy: 0.9318, Loss: 0.0606\n",
      "Epoch   1 Batch  180/538 - Train Accuracy: 0.9369, Validation Accuracy: 0.9265, Loss: 0.0550\n",
      "Epoch   1 Batch  190/538 - Train Accuracy: 0.9012, Validation Accuracy: 0.9396, Loss: 0.0708\n",
      "Epoch   1 Batch  200/538 - Train Accuracy: 0.9389, Validation Accuracy: 0.9363, Loss: 0.0440\n",
      "Epoch   1 Batch  210/538 - Train Accuracy: 0.9163, Validation Accuracy: 0.9222, Loss: 0.0547\n",
      "Epoch   1 Batch  220/538 - Train Accuracy: 0.9234, Validation Accuracy: 0.9254, Loss: 0.0561\n",
      "Epoch   1 Batch  230/538 - Train Accuracy: 0.9270, Validation Accuracy: 0.9364, Loss: 0.0527\n",
      "Epoch   1 Batch  240/538 - Train Accuracy: 0.9494, Validation Accuracy: 0.9386, Loss: 0.0516\n",
      "Epoch   1 Batch  250/538 - Train Accuracy: 0.9502, Validation Accuracy: 0.9537, Loss: 0.0441\n",
      "Epoch   1 Batch  260/538 - Train Accuracy: 0.9077, Validation Accuracy: 0.9368, Loss: 0.0546\n",
      "Epoch   1 Batch  270/538 - Train Accuracy: 0.9240, Validation Accuracy: 0.9398, Loss: 0.0454\n",
      "Epoch   1 Batch  280/538 - Train Accuracy: 0.9470, Validation Accuracy: 0.9338, Loss: 0.0367\n",
      "Epoch   1 Batch  290/538 - Train Accuracy: 0.9518, Validation Accuracy: 0.9276, Loss: 0.0485\n",
      "Epoch   1 Batch  300/538 - Train Accuracy: 0.9475, Validation Accuracy: 0.9489, Loss: 0.0485\n",
      "Epoch   1 Batch  310/538 - Train Accuracy: 0.9488, Validation Accuracy: 0.9517, Loss: 0.0548\n",
      "Epoch   1 Batch  320/538 - Train Accuracy: 0.9423, Validation Accuracy: 0.9370, Loss: 0.0468\n",
      "Epoch   1 Batch  330/538 - Train Accuracy: 0.9414, Validation Accuracy: 0.9368, Loss: 0.0414\n",
      "Epoch   1 Batch  340/538 - Train Accuracy: 0.9230, Validation Accuracy: 0.9558, Loss: 0.0464\n",
      "Epoch   1 Batch  350/538 - Train Accuracy: 0.9423, Validation Accuracy: 0.9334, Loss: 0.0533\n",
      "Epoch   1 Batch  360/538 - Train Accuracy: 0.9270, Validation Accuracy: 0.9544, Loss: 0.0459\n"
     ]
    },
    {
     "name": "stdout",
     "output_type": "stream",
     "text": [
      "Epoch   1 Batch  370/538 - Train Accuracy: 0.9373, Validation Accuracy: 0.9519, Loss: 0.0467\n",
      "Epoch   1 Batch  380/538 - Train Accuracy: 0.9439, Validation Accuracy: 0.9354, Loss: 0.0399\n",
      "Epoch   1 Batch  390/538 - Train Accuracy: 0.9297, Validation Accuracy: 0.9412, Loss: 0.0371\n",
      "Epoch   1 Batch  400/538 - Train Accuracy: 0.9574, Validation Accuracy: 0.9650, Loss: 0.0405\n",
      "Epoch   1 Batch  410/538 - Train Accuracy: 0.9445, Validation Accuracy: 0.9432, Loss: 0.0406\n",
      "Epoch   1 Batch  420/538 - Train Accuracy: 0.9490, Validation Accuracy: 0.9485, Loss: 0.0408\n",
      "Epoch   1 Batch  430/538 - Train Accuracy: 0.9299, Validation Accuracy: 0.9483, Loss: 0.0376\n",
      "Epoch   1 Batch  440/538 - Train Accuracy: 0.9373, Validation Accuracy: 0.9377, Loss: 0.0477\n",
      "Epoch   1 Batch  450/538 - Train Accuracy: 0.9249, Validation Accuracy: 0.9496, Loss: 0.0500\n",
      "Epoch   1 Batch  460/538 - Train Accuracy: 0.9085, Validation Accuracy: 0.9641, Loss: 0.0423\n",
      "Epoch   1 Batch  470/538 - Train Accuracy: 0.9539, Validation Accuracy: 0.9442, Loss: 0.0392\n",
      "Epoch   1 Batch  480/538 - Train Accuracy: 0.9369, Validation Accuracy: 0.9371, Loss: 0.0400\n",
      "Epoch   1 Batch  490/538 - Train Accuracy: 0.9457, Validation Accuracy: 0.9448, Loss: 0.0409\n",
      "Epoch   1 Batch  500/538 - Train Accuracy: 0.9620, Validation Accuracy: 0.9462, Loss: 0.0306\n",
      "Epoch   1 Batch  510/538 - Train Accuracy: 0.9505, Validation Accuracy: 0.9526, Loss: 0.0350\n",
      "Epoch   1 Batch  520/538 - Train Accuracy: 0.9406, Validation Accuracy: 0.9496, Loss: 0.0373\n",
      "Epoch   1 Batch  530/538 - Train Accuracy: 0.9385, Validation Accuracy: 0.9590, Loss: 0.0426\n",
      "Epoch   2 Batch   10/538 - Train Accuracy: 0.9428, Validation Accuracy: 0.9545, Loss: 0.0425\n",
      "Epoch   2 Batch   20/538 - Train Accuracy: 0.9503, Validation Accuracy: 0.9588, Loss: 0.0404\n",
      "Epoch   2 Batch   30/538 - Train Accuracy: 0.9283, Validation Accuracy: 0.9572, Loss: 0.0404\n",
      "Epoch   2 Batch   40/538 - Train Accuracy: 0.9638, Validation Accuracy: 0.9505, Loss: 0.0304\n",
      "Epoch   2 Batch   50/538 - Train Accuracy: 0.9496, Validation Accuracy: 0.9496, Loss: 0.0318\n",
      "Epoch   2 Batch   60/538 - Train Accuracy: 0.9480, Validation Accuracy: 0.9576, Loss: 0.0359\n",
      "Epoch   2 Batch   70/538 - Train Accuracy: 0.9496, Validation Accuracy: 0.9593, Loss: 0.0305\n",
      "Epoch   2 Batch   80/538 - Train Accuracy: 0.9576, Validation Accuracy: 0.9526, Loss: 0.0340\n",
      "Epoch   2 Batch   90/538 - Train Accuracy: 0.9596, Validation Accuracy: 0.9600, Loss: 0.0411\n",
      "Epoch   2 Batch  100/538 - Train Accuracy: 0.9457, Validation Accuracy: 0.9569, Loss: 0.0339\n",
      "Epoch   2 Batch  110/538 - Train Accuracy: 0.9574, Validation Accuracy: 0.9558, Loss: 0.0355\n",
      "Epoch   2 Batch  120/538 - Train Accuracy: 0.9602, Validation Accuracy: 0.9551, Loss: 0.0307\n",
      "Epoch   2 Batch  130/538 - Train Accuracy: 0.9570, Validation Accuracy: 0.9544, Loss: 0.0349\n",
      "Epoch   2 Batch  140/538 - Train Accuracy: 0.9500, Validation Accuracy: 0.9622, Loss: 0.0443\n",
      "Epoch   2 Batch  150/538 - Train Accuracy: 0.9564, Validation Accuracy: 0.9590, Loss: 0.0324\n",
      "Epoch   2 Batch  160/538 - Train Accuracy: 0.9513, Validation Accuracy: 0.9446, Loss: 0.0359\n",
      "Epoch   2 Batch  170/538 - Train Accuracy: 0.9405, Validation Accuracy: 0.9572, Loss: 0.0382\n",
      "Epoch   2 Batch  180/538 - Train Accuracy: 0.9515, Validation Accuracy: 0.9405, Loss: 0.0346\n",
      "Epoch   2 Batch  190/538 - Train Accuracy: 0.9239, Validation Accuracy: 0.9419, Loss: 0.0448\n",
      "Epoch   2 Batch  200/538 - Train Accuracy: 0.9580, Validation Accuracy: 0.9620, Loss: 0.0250\n",
      "Epoch   2 Batch  210/538 - Train Accuracy: 0.9479, Validation Accuracy: 0.9558, Loss: 0.0349\n",
      "Epoch   2 Batch  220/538 - Train Accuracy: 0.9529, Validation Accuracy: 0.9506, Loss: 0.0368\n",
      "Epoch   2 Batch  230/538 - Train Accuracy: 0.9430, Validation Accuracy: 0.9547, Loss: 0.0327\n",
      "Epoch   2 Batch  240/538 - Train Accuracy: 0.9441, Validation Accuracy: 0.9650, Loss: 0.0326\n",
      "Epoch   2 Batch  250/538 - Train Accuracy: 0.9623, Validation Accuracy: 0.9572, Loss: 0.0337\n",
      "Epoch   2 Batch  260/538 - Train Accuracy: 0.9382, Validation Accuracy: 0.9490, Loss: 0.0351\n",
      "Epoch   2 Batch  270/538 - Train Accuracy: 0.9520, Validation Accuracy: 0.9579, Loss: 0.0300\n",
      "Epoch   2 Batch  280/538 - Train Accuracy: 0.9477, Validation Accuracy: 0.9528, Loss: 0.0277\n",
      "Epoch   2 Batch  290/538 - Train Accuracy: 0.9652, Validation Accuracy: 0.9567, Loss: 0.0278\n",
      "Epoch   2 Batch  300/538 - Train Accuracy: 0.9501, Validation Accuracy: 0.9574, Loss: 0.0311\n",
      "Epoch   2 Batch  310/538 - Train Accuracy: 0.9596, Validation Accuracy: 0.9588, Loss: 0.0438\n",
      "Epoch   2 Batch  320/538 - Train Accuracy: 0.9775, Validation Accuracy: 0.9558, Loss: 0.0266\n",
      "Epoch   2 Batch  330/538 - Train Accuracy: 0.9684, Validation Accuracy: 0.9565, Loss: 0.0276\n",
      "Epoch   2 Batch  340/538 - Train Accuracy: 0.9437, Validation Accuracy: 0.9627, Loss: 0.0328\n",
      "Epoch   2 Batch  350/538 - Train Accuracy: 0.9557, Validation Accuracy: 0.9606, Loss: 0.0380\n",
      "Epoch   2 Batch  360/538 - Train Accuracy: 0.9648, Validation Accuracy: 0.9600, Loss: 0.0268\n",
      "Epoch   2 Batch  370/538 - Train Accuracy: 0.9559, Validation Accuracy: 0.9622, Loss: 0.0307\n",
      "Epoch   2 Batch  380/538 - Train Accuracy: 0.9580, Validation Accuracy: 0.9474, Loss: 0.0281\n",
      "Epoch   2 Batch  390/538 - Train Accuracy: 0.9516, Validation Accuracy: 0.9529, Loss: 0.0278\n",
      "Epoch   2 Batch  400/538 - Train Accuracy: 0.9587, Validation Accuracy: 0.9645, Loss: 0.0251\n",
      "Epoch   2 Batch  410/538 - Train Accuracy: 0.9598, Validation Accuracy: 0.9512, Loss: 0.0257\n",
      "Epoch   2 Batch  420/538 - Train Accuracy: 0.9537, Validation Accuracy: 0.9572, Loss: 0.0304\n",
      "Epoch   2 Batch  430/538 - Train Accuracy: 0.9389, Validation Accuracy: 0.9604, Loss: 0.0304\n",
      "Epoch   2 Batch  440/538 - Train Accuracy: 0.9617, Validation Accuracy: 0.9593, Loss: 0.0341\n",
      "Epoch   2 Batch  450/538 - Train Accuracy: 0.9360, Validation Accuracy: 0.9576, Loss: 0.0414\n",
      "Epoch   2 Batch  460/538 - Train Accuracy: 0.9334, Validation Accuracy: 0.9595, Loss: 0.0322\n",
      "Epoch   2 Batch  470/538 - Train Accuracy: 0.9511, Validation Accuracy: 0.9615, Loss: 0.0312\n",
      "Epoch   2 Batch  480/538 - Train Accuracy: 0.9568, Validation Accuracy: 0.9576, Loss: 0.0274\n",
      "Epoch   2 Batch  490/538 - Train Accuracy: 0.9552, Validation Accuracy: 0.9471, Loss: 0.0323\n",
      "Epoch   2 Batch  500/538 - Train Accuracy: 0.9688, Validation Accuracy: 0.9629, Loss: 0.0220\n",
      "Epoch   2 Batch  510/538 - Train Accuracy: 0.9619, Validation Accuracy: 0.9597, Loss: 0.0272\n",
      "Epoch   2 Batch  520/538 - Train Accuracy: 0.9541, Validation Accuracy: 0.9656, Loss: 0.0315\n",
      "Epoch   2 Batch  530/538 - Train Accuracy: 0.9598, Validation Accuracy: 0.9730, Loss: 0.0324\n",
      "Model Trained and Saved\n"
     ]
    }
   ],
   "source": [
    "\"\"\"\n",
    "DON'T MODIFY ANYTHING IN THIS CELL\n",
    "\"\"\"\n",
    "def get_accuracy(target, logits):\n",
    "    \"\"\"\n",
    "    Calculate accuracy\n",
    "    \"\"\"\n",
    "    max_seq = max(target.shape[1], logits.shape[1])\n",
    "    if max_seq - target.shape[1]:\n",
    "        target = np.pad(\n",
    "            target,\n",
    "            [(0,0),(0,max_seq - target.shape[1])],\n",
    "            'constant')\n",
    "    if max_seq - logits.shape[1]:\n",
    "        logits = np.pad(\n",
    "            logits,\n",
    "            [(0,0),(0,max_seq - logits.shape[1])],\n",
    "            'constant')\n",
    "\n",
    "    return np.mean(np.equal(target, logits))\n",
    "\n",
    "# Split data to training and validation sets\n",
    "train_source = source_int_text[batch_size:]\n",
    "train_target = target_int_text[batch_size:]\n",
    "valid_source = source_int_text[:batch_size]\n",
    "valid_target = target_int_text[:batch_size]\n",
    "(valid_sources_batch, valid_targets_batch, valid_sources_lengths, valid_targets_lengths ) = next(get_batches(valid_source,\n",
    "                                                                                                             valid_target,\n",
    "                                                                                                             batch_size,\n",
    "                                                                                                             source_vocab_to_int['<PAD>'],\n",
    "                                                                                                             target_vocab_to_int['<PAD>']))                                                                                                  \n",
    "with tf.Session(graph=train_graph) as sess:\n",
    "    sess.run(tf.global_variables_initializer())\n",
    "\n",
    "    for epoch_i in range(epochs):\n",
    "        for batch_i, (source_batch, target_batch, sources_lengths, targets_lengths) in enumerate(\n",
    "                get_batches(train_source, train_target, batch_size,\n",
    "                            source_vocab_to_int['<PAD>'],\n",
    "                            target_vocab_to_int['<PAD>'])):\n",
    "\n",
    "            _, loss = sess.run(\n",
    "                [train_op, cost],\n",
    "                {input_data: source_batch,\n",
    "                 targets: target_batch,\n",
    "                 lr: learning_rate,\n",
    "                 target_sequence_length: targets_lengths,\n",
    "                 source_sequence_length: sources_lengths,\n",
    "                 keep_prob: keep_probability})\n",
    "\n",
    "\n",
    "            if batch_i % display_step == 0 and batch_i > 0:\n",
    "\n",
    "\n",
    "                batch_train_logits = sess.run(\n",
    "                    inference_logits,\n",
    "                    {input_data: source_batch,\n",
    "                     source_sequence_length: sources_lengths,\n",
    "                     target_sequence_length: targets_lengths,\n",
    "                     keep_prob: 1.0})\n",
    "\n",
    "\n",
    "                batch_valid_logits = sess.run(\n",
    "                    inference_logits,\n",
    "                    {input_data: valid_sources_batch,\n",
    "                     source_sequence_length: valid_sources_lengths,\n",
    "                     target_sequence_length: valid_targets_lengths,\n",
    "                     keep_prob: 1.0})\n",
    "\n",
    "                train_acc = get_accuracy(target_batch, batch_train_logits)\n",
    "\n",
    "                valid_acc = get_accuracy(valid_targets_batch, batch_valid_logits)\n",
    "\n",
    "                print('Epoch {:>3} Batch {:>4}/{} - Train Accuracy: {:>6.4f}, Validation Accuracy: {:>6.4f}, Loss: {:>6.4f}'\n",
    "                      .format(epoch_i, batch_i, len(source_int_text) // batch_size, train_acc, valid_acc, loss))\n",
    "\n",
    "    # Save Model\n",
    "    saver = tf.train.Saver()\n",
    "    saver.save(sess, save_path)\n",
    "    print('Model Trained and Saved')"
   ]
  },
  {
   "cell_type": "markdown",
   "metadata": {},
   "source": [
    "### Save Parameters\n",
    "Save the `batch_size` and `save_path` parameters for inference."
   ]
  },
  {
   "cell_type": "code",
   "execution_count": 21,
   "metadata": {
    "collapsed": true
   },
   "outputs": [],
   "source": [
    "\"\"\"\n",
    "DON'T MODIFY ANYTHING IN THIS CELL\n",
    "\"\"\"\n",
    "# Save parameters for checkpoint\n",
    "helper.save_params(save_path)"
   ]
  },
  {
   "cell_type": "markdown",
   "metadata": {},
   "source": [
    "# Checkpoint"
   ]
  },
  {
   "cell_type": "code",
   "execution_count": 22,
   "metadata": {
    "collapsed": true
   },
   "outputs": [],
   "source": [
    "\"\"\"\n",
    "DON'T MODIFY ANYTHING IN THIS CELL\n",
    "\"\"\"\n",
    "import tensorflow as tf\n",
    "import numpy as np\n",
    "import helper\n",
    "import problem_unittests as tests\n",
    "\n",
    "_, (source_vocab_to_int, target_vocab_to_int), (source_int_to_vocab, target_int_to_vocab) = helper.load_preprocess()\n",
    "load_path = helper.load_params()"
   ]
  },
  {
   "cell_type": "markdown",
   "metadata": {},
   "source": [
    "## Sentence to Sequence\n",
    "To feed a sentence into the model for translation, you first need to preprocess it.  Implement the function `sentence_to_seq()` to preprocess new sentences.\n",
    "\n",
    "- Convert the sentence to lowercase\n",
    "- Convert words into ids using `vocab_to_int`\n",
    " - Convert words not in the vocabulary, to the `<UNK>` word id."
   ]
  },
  {
   "cell_type": "code",
   "execution_count": 23,
   "metadata": {},
   "outputs": [
    {
     "name": "stdout",
     "output_type": "stream",
     "text": [
      "Tests Passed\n"
     ]
    }
   ],
   "source": [
    "def sentence_to_seq(sentence, vocab_to_int):\n",
    "    \"\"\"\n",
    "    Convert a sentence to a sequence of ids\n",
    "    :param sentence: String\n",
    "    :param vocab_to_int: Dictionary to go from the words to an id\n",
    "    :return: List of word ids\n",
    "    \"\"\"\n",
    "    return [vocab_to_int.get(word, vocab_to_int['<UNK>']) for word in (sentence.lower()).split()]\n",
    "\n",
    "\"\"\"\n",
    "DON'T MODIFY ANYTHING IN THIS CELL THAT IS BELOW THIS LINE\n",
    "\"\"\"\n",
    "tests.test_sentence_to_seq(sentence_to_seq)"
   ]
  },
  {
   "cell_type": "markdown",
   "metadata": {},
   "source": [
    "## Translate\n",
    "This will translate `translate_sentence` from English to French."
   ]
  },
  {
   "cell_type": "code",
   "execution_count": 24,
   "metadata": {},
   "outputs": [
    {
     "name": "stdout",
     "output_type": "stream",
     "text": [
      "INFO:tensorflow:Restoring parameters from checkpoints/dev\n",
      "Input\n",
      "  Word Ids:      [77, 55, 139, 223, 205, 131, 106]\n",
      "  English Words: ['he', 'saw', 'a', 'old', 'yellow', 'truck', '.']\n",
      "\n",
      "Prediction\n",
      "  Word Ids:      [252, 215, 185, 321, 327, 166, 63, 203, 1]\n",
      "  French Words: il a vu un vieux camion jaune . <EOS>\n"
     ]
    }
   ],
   "source": [
    "translate_sentence = 'he saw a old yellow truck .'\n",
    "\n",
    "\n",
    "\"\"\"\n",
    "DON'T MODIFY ANYTHING IN THIS CELL\n",
    "\"\"\"\n",
    "translate_sentence = sentence_to_seq(translate_sentence, source_vocab_to_int)\n",
    "\n",
    "loaded_graph = tf.Graph()\n",
    "with tf.Session(graph=loaded_graph) as sess:\n",
    "    # Load saved model\n",
    "    loader = tf.train.import_meta_graph(load_path + '.meta')\n",
    "    loader.restore(sess, load_path)\n",
    "\n",
    "    input_data = loaded_graph.get_tensor_by_name('input:0')\n",
    "    logits = loaded_graph.get_tensor_by_name('predictions:0')\n",
    "    target_sequence_length = loaded_graph.get_tensor_by_name('target_sequence_length:0')\n",
    "    source_sequence_length = loaded_graph.get_tensor_by_name('source_sequence_length:0')\n",
    "    keep_prob = loaded_graph.get_tensor_by_name('keep_prob:0')\n",
    "\n",
    "    translate_logits = sess.run(logits, {input_data: [translate_sentence]*batch_size,\n",
    "                                         target_sequence_length: [len(translate_sentence)*2]*batch_size,\n",
    "                                         source_sequence_length: [len(translate_sentence)]*batch_size,\n",
    "                                         keep_prob: 1.0})[0]\n",
    "\n",
    "print('Input')\n",
    "print('  Word Ids:      {}'.format([i for i in translate_sentence]))\n",
    "print('  English Words: {}'.format([source_int_to_vocab[i] for i in translate_sentence]))\n",
    "\n",
    "print('\\nPrediction')\n",
    "print('  Word Ids:      {}'.format([i for i in translate_logits]))\n",
    "print('  French Words: {}'.format(\" \".join([target_int_to_vocab[i] for i in translate_logits])))\n"
   ]
  },
  {
   "cell_type": "markdown",
   "metadata": {},
   "source": [
    "## Imperfect Translation\n",
    "You might notice that some sentences translate better than others.  Since the dataset you're using only has a vocabulary of 227 English words of the thousands that you use, you're only going to see good results using these words.  For this project, you don't need a perfect translation. However, if you want to create a better translation model, you'll need better data.\n",
    "\n",
    "You can train on the [WMT10 French-English corpus](http://www.statmt.org/wmt10/training-giga-fren.tar).  This dataset has more vocabulary and richer in topics discussed.  However, this will take you days to train, so make sure you've a GPU and the neural network is performing well on dataset we provided.  Just make sure you play with the WMT10 corpus after you've submitted this project.\n",
    "## Submitting This Project\n",
    "When submitting this project, make sure to run all the cells before saving the notebook. Save the notebook file as \"dlnd_language_translation.ipynb\" and save it as a HTML file under \"File\" -> \"Download as\". Include the \"helper.py\" and \"problem_unittests.py\" files in your submission."
   ]
  },
  {
   "cell_type": "code",
   "execution_count": null,
   "metadata": {
    "collapsed": true
   },
   "outputs": [],
   "source": []
  }
 ],
 "metadata": {
  "anaconda-cloud": {},
  "kernelspec": {
   "display_name": "Python 3",
   "language": "python",
   "name": "python3"
  },
  "language_info": {
   "codemirror_mode": {
    "name": "ipython",
    "version": 3
   },
   "file_extension": ".py",
   "mimetype": "text/x-python",
   "name": "python",
   "nbconvert_exporter": "python",
   "pygments_lexer": "ipython3",
   "version": "3.5.3"
  }
 },
 "nbformat": 4,
 "nbformat_minor": 1
}
