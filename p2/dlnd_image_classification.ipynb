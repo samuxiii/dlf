{
 "cells": [
  {
   "cell_type": "markdown",
   "metadata": {
    "collapsed": true
   },
   "source": [
    "# Image Classification\n",
    "In this project, you'll classify images from the [CIFAR-10 dataset](https://www.cs.toronto.edu/~kriz/cifar.html).  The dataset consists of airplanes, dogs, cats, and other objects. You'll preprocess the images, then train a convolutional neural network on all the samples. The images need to be normalized and the labels need to be one-hot encoded.  You'll get to apply what you learned and build a convolutional, max pooling, dropout, and fully connected layers.  At the end, you'll get to see your neural network's predictions on the sample images.\n",
    "## Get the Data\n",
    "Run the following cell to download the [CIFAR-10 dataset for python](https://www.cs.toronto.edu/~kriz/cifar-10-python.tar.gz)."
   ]
  },
  {
   "cell_type": "code",
   "execution_count": 2,
   "metadata": {},
   "outputs": [
    {
     "name": "stderr",
     "output_type": "stream",
     "text": [
      "CIFAR-10 Dataset: 171MB [00:26, 6.49MB/s]                              \n"
     ]
    },
    {
     "name": "stdout",
     "output_type": "stream",
     "text": [
      "All files found!\n"
     ]
    }
   ],
   "source": [
    "\"\"\"\n",
    "DON'T MODIFY ANYTHING IN THIS CELL THAT IS BELOW THIS LINE\n",
    "\"\"\"\n",
    "from urllib.request import urlretrieve\n",
    "from os.path import isfile, isdir\n",
    "from tqdm import tqdm\n",
    "import problem_unittests as tests\n",
    "import tarfile\n",
    "\n",
    "cifar10_dataset_folder_path = 'cifar-10-batches-py'\n",
    "\n",
    "# Use Floyd's cifar-10 dataset if present\n",
    "floyd_cifar10_location = '/input/cifar-10/python.tar.gz'\n",
    "if isfile(floyd_cifar10_location):\n",
    "    tar_gz_path = floyd_cifar10_location\n",
    "else:\n",
    "    tar_gz_path = 'cifar-10-python.tar.gz'\n",
    "\n",
    "class DLProgress(tqdm):\n",
    "    last_block = 0\n",
    "\n",
    "    def hook(self, block_num=1, block_size=1, total_size=None):\n",
    "        self.total = total_size\n",
    "        self.update((block_num - self.last_block) * block_size)\n",
    "        self.last_block = block_num\n",
    "\n",
    "if not isfile(tar_gz_path):\n",
    "    with DLProgress(unit='B', unit_scale=True, miniters=1, desc='CIFAR-10 Dataset') as pbar:\n",
    "        urlretrieve(\n",
    "            'https://www.cs.toronto.edu/~kriz/cifar-10-python.tar.gz',\n",
    "            tar_gz_path,\n",
    "            pbar.hook)\n",
    "\n",
    "if not isdir(cifar10_dataset_folder_path):\n",
    "    with tarfile.open(tar_gz_path) as tar:\n",
    "        tar.extractall()\n",
    "        tar.close()\n",
    "\n",
    "\n",
    "tests.test_folder_path(cifar10_dataset_folder_path)"
   ]
  },
  {
   "cell_type": "markdown",
   "metadata": {},
   "source": [
    "## Explore the Data\n",
    "The dataset is broken into batches to prevent your machine from running out of memory.  The CIFAR-10 dataset consists of 5 batches, named `data_batch_1`, `data_batch_2`, etc.. Each batch contains the labels and images that are one of the following:\n",
    "* airplane\n",
    "* automobile\n",
    "* bird\n",
    "* cat\n",
    "* deer\n",
    "* dog\n",
    "* frog\n",
    "* horse\n",
    "* ship\n",
    "* truck\n",
    "\n",
    "Understanding a dataset is part of making predictions on the data.  Play around with the code cell below by changing the `batch_id` and `sample_id`. The `batch_id` is the id for a batch (1-5). The `sample_id` is the id for a image and label pair in the batch.\n",
    "\n",
    "Ask yourself \"What are all possible labels?\", \"What is the range of values for the image data?\", \"Are the labels in order or random?\".  Answers to questions like these will help you preprocess the data and end up with better predictions."
   ]
  },
  {
   "cell_type": "code",
   "execution_count": 3,
   "metadata": {},
   "outputs": [
    {
     "name": "stdout",
     "output_type": "stream",
     "text": [
      "\n",
      "Stats of batch 1:\n",
      "Samples: 10000\n",
      "Label Counts: {0: 1005, 1: 974, 2: 1032, 3: 1016, 4: 999, 5: 937, 6: 1030, 7: 1001, 8: 1025, 9: 981}\n",
      "First 20 Labels: [6, 9, 9, 4, 1, 1, 2, 7, 8, 3, 4, 7, 7, 2, 9, 9, 9, 3, 2, 6]\n",
      "\n",
      "Example of Image 5:\n",
      "Image - Min Value: 0 Max Value: 252\n",
      "Image - Shape: (32, 32, 3)\n",
      "Label - Label Id: 1 Name: automobile\n"
     ]
    },
    {
     "data": {
      "image/png": "[encoded data removed]",
      "text/plain": [
       "<matplotlib.figure.Figure at 0x7fbb7877fba8>"
      ]
     },
     "metadata": {
      "image/png": {
       "height": 250,
       "width": 253
      }
     },
     "output_type": "display_data"
    }
   ],
   "source": [
    "%matplotlib inline\n",
    "%config InlineBackend.figure_format = 'retina'\n",
    "\n",
    "import helper\n",
    "import numpy as np\n",
    "\n",
    "# Explore the dataset\n",
    "batch_id = 1\n",
    "sample_id = 5\n",
    "helper.display_stats(cifar10_dataset_folder_path, batch_id, sample_id)"
   ]
  },
  {
   "cell_type": "markdown",
   "metadata": {},
   "source": [
    "## Implement Preprocess Functions\n",
    "### Normalize\n",
    "In the cell below, implement the `normalize` function to take in image data, `x`, and return it as a normalized Numpy array. The values should be in the range of 0 to 1, inclusive.  The return object should be the same shape as `x`."
   ]
  },
  {
   "cell_type": "code",
   "execution_count": 4,
   "metadata": {},
   "outputs": [
    {
     "name": "stdout",
     "output_type": "stream",
     "text": [
      "Tests Passed\n"
     ]
    }
   ],
   "source": [
    "def normalize(x):\n",
    "    \"\"\"\n",
    "    Normalize a list of sample image data in the range of 0 to 1\n",
    "    : x: List of image data.  The image shape is (32, 32, 3)\n",
    "    : return: Numpy array of normalize data\n",
    "    \"\"\"\n",
    "    return (x - np.amin(x))/(np.amax(x)-np.amin(x))\n",
    "\n",
    "\"\"\"\n",
    "DON'T MODIFY ANYTHING IN THIS CELL THAT IS BELOW THIS LINE\n",
    "\"\"\"\n",
    "tests.test_normalize(normalize)"
   ]
  },
  {
   "cell_type": "markdown",
   "metadata": {},
   "source": [
    "### One-hot encode\n",
    "Just like the previous code cell, you'll be implementing a function for preprocessing.  This time, you'll implement the `one_hot_encode` function. The input, `x`, are a list of labels.  Implement the function to return the list of labels as One-Hot encoded Numpy array.  The possible values for labels are 0 to 9. The one-hot encoding function should return the same encoding for each value between each call to `one_hot_encode`.  Make sure to save the map of encodings outside the function.\n",
    "\n",
    "Hint: Don't reinvent the wheel."
   ]
  },
  {
   "cell_type": "code",
   "execution_count": 5,
   "metadata": {},
   "outputs": [
    {
     "name": "stdout",
     "output_type": "stream",
     "text": [
      "Tests Passed\n"
     ]
    }
   ],
   "source": [
    "from sklearn import preprocessing\n",
    "\n",
    "lb = preprocessing.LabelBinarizer()\n",
    "lb = lb.fit(np.arange(0,10))\n",
    "\n",
    "def one_hot_encode(x):\n",
    "    \"\"\"\n",
    "    One hot encode a list of sample labels. Return a one-hot encoded vector for each label.\n",
    "    : x: List of sample Labels\n",
    "    : return: Numpy array of one-hot encoded labels\n",
    "    \"\"\"\n",
    "    return lb.transform(x)\n",
    "\n",
    "\n",
    "\"\"\"\n",
    "DON'T MODIFY ANYTHING IN THIS CELL THAT IS BELOW THIS LINE\n",
    "\"\"\"\n",
    "tests.test_one_hot_encode(one_hot_encode)"
   ]
  },
  {
   "cell_type": "markdown",
   "metadata": {},
   "source": [
    "### Randomize Data\n",
    "As you saw from exploring the data above, the order of the samples are randomized.  It doesn't hurt to randomize it again, but you don't need to for this dataset."
   ]
  },
  {
   "cell_type": "markdown",
   "metadata": {},
   "source": [
    "## Preprocess all the data and save it\n",
    "Running the code cell below will preprocess all the CIFAR-10 data and save it to file. The code below also uses 10% of the training data for validation."
   ]
  },
  {
   "cell_type": "code",
   "execution_count": 6,
   "metadata": {
    "collapsed": true
   },
   "outputs": [],
   "source": [
    "\"\"\"\n",
    "DON'T MODIFY ANYTHING IN THIS CELL\n",
    "\"\"\"\n",
    "# Preprocess Training, Validation, and Testing Data\n",
    "helper.preprocess_and_save_data(cifar10_dataset_folder_path, normalize, one_hot_encode)"
   ]
  },
  {
   "cell_type": "markdown",
   "metadata": {},
   "source": [
    "# Check Point\n",
    "This is your first checkpoint.  If you ever decide to come back to this notebook or have to restart the notebook, you can start from here.  The preprocessed data has been saved to disk."
   ]
  },
  {
   "cell_type": "code",
   "execution_count": 7,
   "metadata": {
    "collapsed": true
   },
   "outputs": [],
   "source": [
    "\"\"\"\n",
    "DON'T MODIFY ANYTHING IN THIS CELL\n",
    "\"\"\"\n",
    "import pickle\n",
    "import problem_unittests as tests\n",
    "import helper\n",
    "\n",
    "# Load the Preprocessed Validation data\n",
    "valid_features, valid_labels = pickle.load(open('preprocess_validation.p', mode='rb'))"
   ]
  },
  {
   "cell_type": "markdown",
   "metadata": {},
   "source": [
    "## Build the network\n",
    "For the neural network, you'll build each layer into a function.  Most of the code you've seen has been outside of functions. To test your code more thoroughly, we require that you put each layer in a function.  This allows us to give you better feedback and test for simple mistakes using our unittests before you submit your project.\n",
    "\n",
    ">**Note:** If you're finding it hard to dedicate enough time for this course each week, we've provided a small shortcut to this part of the project. In the next couple of problems, you'll have the option to use classes from the [TensorFlow Layers](https://www.tensorflow.org/api_docs/python/tf/layers) or [TensorFlow Layers (contrib)](https://www.tensorflow.org/api_guides/python/contrib.layers) packages to build each layer, except the layers you build in the \"Convolutional and Max Pooling Layer\" section.  TF Layers is similar to Keras's and TFLearn's abstraction to layers, so it's easy to pickup.\n",
    "\n",
    ">However, if you would like to get the most out of this course, try to solve all the problems _without_ using anything from the TF Layers packages. You **can** still use classes from other packages that happen to have the same name as ones you find in TF Layers! For example, instead of using the TF Layers version of the `conv2d` class, [tf.layers.conv2d](https://www.tensorflow.org/api_docs/python/tf/layers/conv2d), you would want to use the TF Neural Network version of `conv2d`, [tf.nn.conv2d](https://www.tensorflow.org/api_docs/python/tf/nn/conv2d). \n",
    "\n",
    "Let's begin!\n",
    "\n",
    "### Input\n",
    "The neural network needs to read the image data, one-hot encoded labels, and dropout keep probability. Implement the following functions\n",
    "* Implement `neural_net_image_input`\n",
    " * Return a [TF Placeholder](https://www.tensorflow.org/api_docs/python/tf/placeholder)\n",
    " * Set the shape using `image_shape` with batch size set to `None`.\n",
    " * Name the TensorFlow placeholder \"x\" using the TensorFlow `name` parameter in the [TF Placeholder](https://www.tensorflow.org/api_docs/python/tf/placeholder).\n",
    "* Implement `neural_net_label_input`\n",
    " * Return a [TF Placeholder](https://www.tensorflow.org/api_docs/python/tf/placeholder)\n",
    " * Set the shape using `n_classes` with batch size set to `None`.\n",
    " * Name the TensorFlow placeholder \"y\" using the TensorFlow `name` parameter in the [TF Placeholder](https://www.tensorflow.org/api_docs/python/tf/placeholder).\n",
    "* Implement `neural_net_keep_prob_input`\n",
    " * Return a [TF Placeholder](https://www.tensorflow.org/api_docs/python/tf/placeholder) for dropout keep probability.\n",
    " * Name the TensorFlow placeholder \"keep_prob\" using the TensorFlow `name` parameter in the [TF Placeholder](https://www.tensorflow.org/api_docs/python/tf/placeholder).\n",
    "\n",
    "These names will be used at the end of the project to load your saved model.\n",
    "\n",
    "Note: `None` for shapes in TensorFlow allow for a dynamic size."
   ]
  },
  {
   "cell_type": "code",
   "execution_count": 8,
   "metadata": {},
   "outputs": [
    {
     "name": "stdout",
     "output_type": "stream",
     "text": [
      "Image Input Tests Passed.\n",
      "Label Input Tests Passed.\n",
      "Keep Prob Tests Passed.\n"
     ]
    }
   ],
   "source": [
    "import tensorflow as tf\n",
    "\n",
    "def neural_net_image_input(image_shape):\n",
    "    \"\"\"\n",
    "    Return a Tensor for a batch of image input\n",
    "    : image_shape: Shape of the images\n",
    "    : return: Tensor for image input.\n",
    "    \"\"\"\n",
    "    return tf.placeholder(tf.float32, (None,)+image_shape, name='x')\n",
    "\n",
    "\n",
    "def neural_net_label_input(n_classes):\n",
    "    \"\"\"\n",
    "    Return a Tensor for a batch of label input\n",
    "    : n_classes: Number of classes\n",
    "    : return: Tensor for label input.\n",
    "    \"\"\"\n",
    "    return tf.placeholder(tf.float32, (None, n_classes), name='y')\n",
    "\n",
    "\n",
    "def neural_net_keep_prob_input():\n",
    "    \"\"\"\n",
    "    Return a Tensor for keep probability\n",
    "    : return: Tensor for keep probability.\n",
    "    \"\"\"\n",
    "    return tf.placeholder(tf.float32, name='keep_prob')\n",
    "\n",
    "\n",
    "\"\"\"\n",
    "DON'T MODIFY ANYTHING IN THIS CELL THAT IS BELOW THIS LINE\n",
    "\"\"\"\n",
    "tf.reset_default_graph()\n",
    "tests.test_nn_image_inputs(neural_net_image_input)\n",
    "tests.test_nn_label_inputs(neural_net_label_input)\n",
    "tests.test_nn_keep_prob_inputs(neural_net_keep_prob_input)"
   ]
  },
  {
   "cell_type": "markdown",
   "metadata": {},
   "source": [
    "### Convolution and Max Pooling Layer\n",
    "Convolution layers have a lot of success with images. For this code cell, you should implement the function `conv2d_maxpool` to apply convolution then max pooling:\n",
    "* Create the weight and bias using `conv_ksize`, `conv_num_outputs` and the shape of `x_tensor`.\n",
    "* Apply a convolution to `x_tensor` using weight and `conv_strides`.\n",
    " * We recommend you use same padding, but you're welcome to use any padding.\n",
    "* Add bias\n",
    "* Add a nonlinear activation to the convolution.\n",
    "* Apply Max Pooling using `pool_ksize` and `pool_strides`.\n",
    " * We recommend you use same padding, but you're welcome to use any padding.\n",
    "\n",
    "**Note:** You **can't** use [TensorFlow Layers](https://www.tensorflow.org/api_docs/python/tf/layers) or [TensorFlow Layers (contrib)](https://www.tensorflow.org/api_guides/python/contrib.layers) for **this** layer, but you can still use TensorFlow's [Neural Network](https://www.tensorflow.org/api_docs/python/tf/nn) package. You may still use the shortcut option for all the **other** layers."
   ]
  },
  {
   "cell_type": "code",
   "execution_count": 75,
   "metadata": {},
   "outputs": [
    {
     "name": "stdout",
     "output_type": "stream",
     "text": [
      "Tests Passed\n"
     ]
    }
   ],
   "source": [
    "def conv2d_maxpool(x_tensor, conv_num_outputs, conv_ksize, conv_strides, pool_ksize, pool_strides):\n",
    "    \"\"\"\n",
    "    Apply convolution then max pooling to x_tensor\n",
    "    :param x_tensor: TensorFlow Tensor\n",
    "    :param conv_num_outputs: Number of outputs for the convolutional layer\n",
    "    :param conv_ksize: kernal size 2-D Tuple for the convolutional layer\n",
    "    :param conv_strides: Stride 2-D Tuple for convolution\n",
    "    :param pool_ksize: kernal size 2-D Tuple for pool\n",
    "    :param pool_strides: Stride 2-D Tuple for pool\n",
    "    : return: A tensor that represents convolution and max pooling of x_tensor\n",
    "    \"\"\"\n",
    "    # TODO: Implement Function\n",
    "    \n",
    "    x_shape = x_tensor.get_shape().as_list()\n",
    "    weights_shape = conv_ksize + (x_shape[3],) + (conv_num_outputs,)  \n",
    "    dev = 1/np.sqrt(np.prod(x_shape[1:]))\n",
    "    \n",
    "    weights = tf.Variable(tf.truncated_normal(weights_shape, stddev=dev))\n",
    "    bias = tf.Variable(tf.truncated_normal([conv_num_outputs], stddev=dev))\n",
    "    \n",
    "    conv = tf.nn.conv2d(x_tensor, weights, (1,)+conv_strides+(1,), padding='SAME')\n",
    "    conv = tf.nn.bias_add(conv, bias)\n",
    "    conv = tf.nn.relu(conv)\n",
    "    \n",
    "    max_pool = tf.nn.max_pool(conv, (1,)+pool_ksize+(1,), (1,)+pool_strides+(1,), padding='SAME')\n",
    "    \n",
    "    return max_pool\n",
    "\n",
    "\n",
    "\"\"\"\n",
    "DON'T MODIFY ANYTHING IN THIS CELL THAT IS BELOW THIS LINE\n",
    "\"\"\"\n",
    "tests.test_con_pool(conv2d_maxpool)"
   ]
  },
  {
   "cell_type": "markdown",
   "metadata": {},
   "source": [
    "### Flatten Layer\n",
    "Implement the `flatten` function to change the dimension of `x_tensor` from a 4-D tensor to a 2-D tensor.  The output should be the shape (*Batch Size*, *Flattened Image Size*). Shortcut option: you can use classes from the [TensorFlow Layers](https://www.tensorflow.org/api_docs/python/tf/layers) or [TensorFlow Layers (contrib)](https://www.tensorflow.org/api_guides/python/contrib.layers) packages for this layer. For more of a challenge, only use other TensorFlow packages."
   ]
  },
  {
   "cell_type": "code",
   "execution_count": 70,
   "metadata": {},
   "outputs": [
    {
     "name": "stdout",
     "output_type": "stream",
     "text": [
      "1800\n",
      "Tests Passed\n"
     ]
    }
   ],
   "source": [
    "def flatten(x_tensor):\n",
    "    \"\"\"\n",
    "    Flatten x_tensor to (Batch Size, Flattened Image Size)\n",
    "    : x_tensor: A tensor of size (Batch Size, ...), where ... are the image dimensions.\n",
    "    : return: A tensor of size (Batch Size, Flattened Image Size).\n",
    "    \"\"\"\n",
    "    shape = x_tensor.get_shape().as_list()\n",
    "    img_dim = np.prod(shape[1:])\n",
    "    print(img_dim)\n",
    "    return tf.reshape(x_tensor, [-1, img_dim])\n",
    "\n",
    "\"\"\"\n",
    "DON'T MODIFY ANYTHING IN THIS CELL THAT IS BELOW THIS LINE\n",
    "\"\"\"\n",
    "tests.test_flatten(flatten)"
   ]
  },
  {
   "cell_type": "markdown",
   "metadata": {},
   "source": [
    "### Fully-Connected Layer\n",
    "Implement the `fully_conn` function to apply a fully connected layer to `x_tensor` with the shape (*Batch Size*, *num_outputs*). Shortcut option: you can use classes from the [TensorFlow Layers](https://www.tensorflow.org/api_docs/python/tf/layers) or [TensorFlow Layers (contrib)](https://www.tensorflow.org/api_guides/python/contrib.layers) packages for this layer. For more of a challenge, only use other TensorFlow packages."
   ]
  },
  {
   "cell_type": "code",
   "execution_count": 76,
   "metadata": {},
   "outputs": [
    {
     "name": "stdout",
     "output_type": "stream",
     "text": [
      "Tests Passed\n"
     ]
    }
   ],
   "source": [
    "def fully_conn(x_tensor, num_outputs):\n",
    "    \"\"\"\n",
    "    Apply a fully connected layer to x_tensor using weight and bias\n",
    "    : x_tensor: A 2-D tensor where the first dimension is batch size.\n",
    "    : num_outputs: The number of output that the new tensor should be.\n",
    "    : return: A 2-D tensor where the second dimension is num_outputs.\n",
    "    \"\"\"\n",
    "    x_shape = x_tensor.get_shape().as_list()\n",
    "    dev = 1/np.sqrt(np.prod(x_shape[1:]))\n",
    "    weights_shape = (x_shape[1], num_outputs)\n",
    "\n",
    "    weights = tf.Variable(tf.truncated_normal(weights_shape, stddev=dev))\n",
    "    bias = tf.Variable(tf.truncated_normal([num_outputs], stddev=dev))\n",
    "    \n",
    "    output = tf.add(tf.matmul(x_tensor, weights), bias)\n",
    "    output = tf.nn.relu(output)\n",
    "    \n",
    "    return output\n",
    "\n",
    "\n",
    "\"\"\"\n",
    "DON'T MODIFY ANYTHING IN THIS CELL THAT IS BELOW THIS LINE\n",
    "\"\"\"\n",
    "tests.test_fully_conn(fully_conn)"
   ]
  },
  {
   "cell_type": "markdown",
   "metadata": {},
   "source": [
    "### Output Layer\n",
    "Implement the `output` function to apply a fully connected layer to `x_tensor` with the shape (*Batch Size*, *num_outputs*). Shortcut option: you can use classes from the [TensorFlow Layers](https://www.tensorflow.org/api_docs/python/tf/layers) or [TensorFlow Layers (contrib)](https://www.tensorflow.org/api_guides/python/contrib.layers) packages for this layer. For more of a challenge, only use other TensorFlow packages.\n",
    "\n",
    "**Note:** Activation, softmax, or cross entropy should **not** be applied to this."
   ]
  },
  {
   "cell_type": "code",
   "execution_count": 77,
   "metadata": {},
   "outputs": [
    {
     "name": "stdout",
     "output_type": "stream",
     "text": [
      "Tests Passed\n"
     ]
    }
   ],
   "source": [
    "def output(x_tensor, num_outputs):\n",
    "    \"\"\"\n",
    "    Apply a output layer to x_tensor using weight and bias\n",
    "    : x_tensor: A 2-D tensor where the first dimension is batch size.\n",
    "    : num_outputs: The number of output that the new tensor should be.\n",
    "    : return: A 2-D tensor where the second dimension is num_outputs.\n",
    "    \"\"\"\n",
    "    \n",
    "    x_shape = x_tensor.get_shape().as_list()\n",
    "    dev = 1/np.sqrt(np.prod(x_shape[1:]))\n",
    "    weights_shape = (x_shape[1], num_outputs)\n",
    "    \n",
    "    weights = tf.Variable(tf.truncated_normal(weights_shape, stddev=dev))\n",
    "    bias = tf.Variable(tf.truncated_normal([num_outputs], stddev=dev))\n",
    "    \n",
    "    output = tf.add(tf.matmul(x_tensor, weights), bias)\n",
    "    \n",
    "    return output\n",
    "\n",
    "\n",
    "\"\"\"\n",
    "DON'T MODIFY ANYTHING IN THIS CELL THAT IS BELOW THIS LINE\n",
    "\"\"\"\n",
    "tests.test_output(output)"
   ]
  },
  {
   "cell_type": "markdown",
   "metadata": {},
   "source": [
    "### Create Convolutional Model\n",
    "Implement the function `conv_net` to create a convolutional neural network model. The function takes in a batch of images, `x`, and outputs logits.  Use the layers you created above to create this model:\n",
    "\n",
    "* Apply 1, 2, or 3 Convolution and Max Pool layers\n",
    "* Apply a Flatten Layer\n",
    "* Apply 1, 2, or 3 Fully Connected Layers\n",
    "* Apply an Output Layer\n",
    "* Return the output\n",
    "* Apply [TensorFlow's Dropout](https://www.tensorflow.org/api_docs/python/tf/nn/dropout) to one or more layers in the model using `keep_prob`. "
   ]
  },
  {
   "cell_type": "code",
   "execution_count": 130,
   "metadata": {},
   "outputs": [
    {
     "name": "stdout",
     "output_type": "stream",
     "text": [
      "1024\n",
      "1024\n",
      "Neural Network Built!\n"
     ]
    }
   ],
   "source": [
    "def conv_net(x, keep_prob):\n",
    "    \"\"\"\n",
    "    Create a convolutional neural network model\n",
    "    : x: Placeholder tensor that holds image data.\n",
    "    : keep_prob: Placeholder tensor that hold dropout keep probability.\n",
    "    : return: Tensor that represents logits\n",
    "    \"\"\"\n",
    "    # TODO: Apply 1, 2, or 3 Convolution and Max Pool layers\n",
    "    #    Play around with different number of outputs, kernel size and stride\n",
    "    # Function Definition from Above:\n",
    "    #    conv2d_maxpool(x_tensor, conv_num_outputs, conv_ksize, conv_strides, pool_ksize, pool_strides)\n",
    "    \n",
    "    #32x32x3\n",
    "    conv1 = conv2d_maxpool(x, 32, (5,5), (1,1), (3,3), (2,2))\n",
    "    #16x16x32\n",
    "    conv2 = conv2d_maxpool(conv1, 32, (5,5), (1,1), (3,3), (2,2))\n",
    "    #8x8x32\n",
    "    conv3 = conv2d_maxpool(conv2, 64, (5,5), (1,1), (3,3), (2,2))\n",
    "    #4x4x64\n",
    "\n",
    "    # TODO: Apply a Flatten Layer\n",
    "    # Function Definition from Above:\n",
    "    #   flatten(x_tensor)\n",
    "    \n",
    "    #4x4x64\n",
    "    flat = flatten(conv3)\n",
    "    #1024\n",
    "    \n",
    "\n",
    "    # TODO: Apply 1, 2, or 3 Fully Connected Layers\n",
    "    #    Play around with different number of outputs\n",
    "    # Function Definition from Above:\n",
    "    #   fully_conn(x_tensor, num_outputs)\n",
    "    \n",
    "    #1024\n",
    "    fc1 = fully_conn(flat, flat.get_shape().as_list()[1])\n",
    "    fc1 = tf.nn.dropout(fc1, keep_prob)\n",
    "    #1024\n",
    "    fc2 = fully_conn(fc1, fc1.get_shape().as_list()[1])\n",
    "    fc2 = tf.nn.dropout(fc2, keep_prob)\n",
    "    \n",
    "    # TODO: Apply an Output Layer\n",
    "    #    Set this to the number of classes\n",
    "    # Function Definition from Above:\n",
    "    #   output(x_tensor, num_outputs)\n",
    "    \n",
    "    #4x36\n",
    "    output_ = output(fc2, 10)\n",
    "    #4x10\n",
    "    \n",
    "    # TODO: return output\n",
    "    return output_\n",
    "\n",
    "\n",
    "\"\"\"\n",
    "DON'T MODIFY ANYTHING IN THIS CELL THAT IS BELOW THIS LINE\n",
    "\"\"\"\n",
    "\n",
    "##############################\n",
    "## Build the Neural Network ##\n",
    "##############################\n",
    "\n",
    "# Remove previous weights, bias, inputs, etc..\n",
    "tf.reset_default_graph()\n",
    "\n",
    "# Inputs\n",
    "x = neural_net_image_input((32, 32, 3))\n",
    "y = neural_net_label_input(10)\n",
    "keep_prob = neural_net_keep_prob_input()\n",
    "\n",
    "# Model\n",
    "logits = conv_net(x, keep_prob)\n",
    "\n",
    "# Name logits Tensor, so that is can be loaded from disk after training\n",
    "logits = tf.identity(logits, name='logits')\n",
    "\n",
    "# Loss and Optimizer\n",
    "cost = tf.reduce_mean(tf.nn.softmax_cross_entropy_with_logits(logits=logits, labels=y))\n",
    "optimizer = tf.train.AdamOptimizer().minimize(cost)\n",
    "\n",
    "# Accuracy\n",
    "correct_pred = tf.equal(tf.argmax(logits, 1), tf.argmax(y, 1))\n",
    "accuracy = tf.reduce_mean(tf.cast(correct_pred, tf.float32), name='accuracy')\n",
    "\n",
    "tests.test_conv_net(conv_net)"
   ]
  },
  {
   "cell_type": "markdown",
   "metadata": {},
   "source": [
    "## Train the Neural Network\n",
    "### Single Optimization\n",
    "Implement the function `train_neural_network` to do a single optimization.  The optimization should use `optimizer` to optimize in `session` with a `feed_dict` of the following:\n",
    "* `x` for image input\n",
    "* `y` for labels\n",
    "* `keep_prob` for keep probability for dropout\n",
    "\n",
    "This function will be called for each batch, so `tf.global_variables_initializer()` has already been called.\n",
    "\n",
    "Note: Nothing needs to be returned. This function is only optimizing the neural network."
   ]
  },
  {
   "cell_type": "code",
   "execution_count": 103,
   "metadata": {},
   "outputs": [
    {
     "name": "stdout",
     "output_type": "stream",
     "text": [
      "Tests Passed\n"
     ]
    }
   ],
   "source": [
    "def train_neural_network(session, optimizer, keep_probability, feature_batch, label_batch):\n",
    "    \"\"\"\n",
    "    Optimize the session on a batch of images and labels\n",
    "    : session: Current TensorFlow session\n",
    "    : optimizer: TensorFlow optimizer function\n",
    "    : keep_probability: keep probability\n",
    "    : feature_batch: Batch of Numpy image data\n",
    "    : label_batch: Batch of Numpy label data\n",
    "    \"\"\"\n",
    "    session.run(optimizer, feed_dict={x:feature_batch, y:label_batch, keep_prob:keep_probability})\n",
    "\n",
    "\n",
    "\"\"\"\n",
    "DON'T MODIFY ANYTHING IN THIS CELL THAT IS BELOW THIS LINE\n",
    "\"\"\"\n",
    "tests.test_train_nn(train_neural_network)"
   ]
  },
  {
   "cell_type": "markdown",
   "metadata": {},
   "source": [
    "### Show Stats\n",
    "Implement the function `print_stats` to print loss and validation accuracy.  Use the global variables `valid_features` and `valid_labels` to calculate validation accuracy.  Use a keep probability of `1.0` to calculate the loss and validation accuracy."
   ]
  },
  {
   "cell_type": "code",
   "execution_count": 104,
   "metadata": {
    "collapsed": true
   },
   "outputs": [],
   "source": [
    "def print_stats(session, feature_batch, label_batch, cost, accuracy):\n",
    "    \"\"\"\n",
    "    Print information about loss and validation accuracy\n",
    "    : session: Current TensorFlow session\n",
    "    : feature_batch: Batch of Numpy image data\n",
    "    : label_batch: Batch of Numpy label data\n",
    "    : cost: TensorFlow cost function\n",
    "    : accuracy: TensorFlow accuracy function\n",
    "    \"\"\"\n",
    "    loss = session.run(cost, feed_dict={x:feature_batch, y:label_batch, keep_prob:1.0})\n",
    "    acc = session.run(accuracy, feed_dict={x:valid_features, y:valid_labels, keep_prob:1.0})\n",
    "    \n",
    "    print('Loss:{:.6f} Validation Accuracy:{:.6f}'.format(loss, acc))\n"
   ]
  },
  {
   "cell_type": "markdown",
   "metadata": {},
   "source": [
    "### Hyperparameters\n",
    "Tune the following parameters:\n",
    "* Set `epochs` to the number of iterations until the network stops learning or start overfitting\n",
    "* Set `batch_size` to the highest number that your machine has memory for.  Most people set them to common sizes of memory:\n",
    " * 64\n",
    " * 128\n",
    " * 256\n",
    " * ...\n",
    "* Set `keep_probability` to the probability of keeping a node using dropout"
   ]
  },
  {
   "cell_type": "code",
   "execution_count": 107,
   "metadata": {
    "collapsed": true
   },
   "outputs": [],
   "source": [
    "# TODO: Tune Parameters\n",
    "epochs = 30\n",
    "batch_size = 1024\n",
    "keep_probability = 0.7"
   ]
  },
  {
   "cell_type": "markdown",
   "metadata": {},
   "source": [
    "### Train on a Single CIFAR-10 Batch\n",
    "Instead of training the neural network on all the CIFAR-10 batches of data, let's use a single batch. This should save time while you iterate on the model to get a better accuracy.  Once the final validation accuracy is 50% or greater, run the model on all the data in the next section."
   ]
  },
  {
   "cell_type": "code",
   "execution_count": 131,
   "metadata": {},
   "outputs": [
    {
     "name": "stdout",
     "output_type": "stream",
     "text": [
      "Checking the Training on a Single Batch...\n",
      "Epoch  1, CIFAR-10 Batch 1:  Loss:2.230340 Validation Accuracy:0.148200\n",
      "Epoch  2, CIFAR-10 Batch 1:  Loss:2.055219 Validation Accuracy:0.215600\n",
      "Epoch  3, CIFAR-10 Batch 1:  Loss:2.011648 Validation Accuracy:0.250200\n",
      "Epoch  4, CIFAR-10 Batch 1:  Loss:1.888071 Validation Accuracy:0.315400\n",
      "Epoch  5, CIFAR-10 Batch 1:  Loss:1.886969 Validation Accuracy:0.295000\n",
      "Epoch  6, CIFAR-10 Batch 1:  Loss:1.762328 Validation Accuracy:0.346200\n",
      "Epoch  7, CIFAR-10 Batch 1:  Loss:1.707087 Validation Accuracy:0.368600\n",
      "Epoch  8, CIFAR-10 Batch 1:  Loss:1.718594 Validation Accuracy:0.357400\n",
      "Epoch  9, CIFAR-10 Batch 1:  Loss:1.587294 Validation Accuracy:0.396600\n",
      "Epoch 10, CIFAR-10 Batch 1:  Loss:1.529577 Validation Accuracy:0.413800\n",
      "Epoch 11, CIFAR-10 Batch 1:  Loss:1.503971 Validation Accuracy:0.424000\n",
      "Epoch 12, CIFAR-10 Batch 1:  Loss:1.424696 Validation Accuracy:0.436400\n",
      "Epoch 13, CIFAR-10 Batch 1:  Loss:1.400128 Validation Accuracy:0.452400\n",
      "Epoch 14, CIFAR-10 Batch 1:  Loss:1.388472 Validation Accuracy:0.461200\n",
      "Epoch 15, CIFAR-10 Batch 1:  Loss:1.302109 Validation Accuracy:0.481200\n",
      "Epoch 16, CIFAR-10 Batch 1:  Loss:1.277364 Validation Accuracy:0.483800\n",
      "Epoch 17, CIFAR-10 Batch 1:  Loss:1.274518 Validation Accuracy:0.498400\n",
      "Epoch 18, CIFAR-10 Batch 1:  Loss:1.278689 Validation Accuracy:0.476400\n",
      "Epoch 19, CIFAR-10 Batch 1:  Loss:1.196526 Validation Accuracy:0.505200\n",
      "Epoch 20, CIFAR-10 Batch 1:  Loss:1.193729 Validation Accuracy:0.514600\n",
      "Epoch 21, CIFAR-10 Batch 1:  Loss:1.151422 Validation Accuracy:0.521000\n",
      "Epoch 22, CIFAR-10 Batch 1:  Loss:1.137056 Validation Accuracy:0.519000\n",
      "Epoch 23, CIFAR-10 Batch 1:  Loss:1.092598 Validation Accuracy:0.540000\n",
      "Epoch 24, CIFAR-10 Batch 1:  Loss:1.049122 Validation Accuracy:0.548400\n",
      "Epoch 25, CIFAR-10 Batch 1:  Loss:1.002954 Validation Accuracy:0.559600\n",
      "Epoch 26, CIFAR-10 Batch 1:  Loss:1.016213 Validation Accuracy:0.553400\n",
      "Epoch 27, CIFAR-10 Batch 1:  Loss:0.978115 Validation Accuracy:0.558400\n",
      "Epoch 28, CIFAR-10 Batch 1:  Loss:1.049674 Validation Accuracy:0.535000\n",
      "Epoch 29, CIFAR-10 Batch 1:  Loss:1.116578 Validation Accuracy:0.492400\n",
      "Epoch 30, CIFAR-10 Batch 1:  Loss:0.960010 Validation Accuracy:0.551200\n"
     ]
    }
   ],
   "source": [
    "\"\"\"\n",
    "DON'T MODIFY ANYTHING IN THIS CELL\n",
    "\"\"\"\n",
    "print('Checking the Training on a Single Batch...')\n",
    "with tf.Session() as sess:\n",
    "    # Initializing the variables\n",
    "    sess.run(tf.global_variables_initializer())\n",
    "    \n",
    "    # Training cycle\n",
    "    for epoch in range(epochs):\n",
    "        batch_i = 1\n",
    "        for batch_features, batch_labels in helper.load_preprocess_training_batch(batch_i, batch_size):\n",
    "            train_neural_network(sess, optimizer, keep_probability, batch_features, batch_labels)\n",
    "        print('Epoch {:>2}, CIFAR-10 Batch {}:  '.format(epoch + 1, batch_i), end='')\n",
    "        print_stats(sess, batch_features, batch_labels, cost, accuracy)"
   ]
  },
  {
   "cell_type": "markdown",
   "metadata": {},
   "source": [
    "### Fully Train the Model\n",
    "Now that you got a good accuracy with a single CIFAR-10 batch, try it with all five batches."
   ]
  },
  {
   "cell_type": "code",
   "execution_count": 132,
   "metadata": {},
   "outputs": [
    {
     "name": "stdout",
     "output_type": "stream",
     "text": [
      "Training...\n",
      "Epoch  1, CIFAR-10 Batch 1:  Loss:2.282407 Validation Accuracy:0.101000\n",
      "Epoch  1, CIFAR-10 Batch 2:  Loss:2.078321 Validation Accuracy:0.210200\n",
      "Epoch  1, CIFAR-10 Batch 3:  Loss:1.993960 Validation Accuracy:0.245000\n",
      "Epoch  1, CIFAR-10 Batch 4:  Loss:1.879586 Validation Accuracy:0.308000\n",
      "Epoch  1, CIFAR-10 Batch 5:  Loss:1.849377 Validation Accuracy:0.309800\n",
      "Epoch  2, CIFAR-10 Batch 1:  Loss:1.861308 Validation Accuracy:0.305600\n",
      "Epoch  2, CIFAR-10 Batch 2:  Loss:1.728990 Validation Accuracy:0.359000\n",
      "Epoch  2, CIFAR-10 Batch 3:  Loss:1.608166 Validation Accuracy:0.370400\n",
      "Epoch  2, CIFAR-10 Batch 4:  Loss:1.584908 Validation Accuracy:0.403400\n",
      "Epoch  2, CIFAR-10 Batch 5:  Loss:1.526888 Validation Accuracy:0.424400\n",
      "Epoch  3, CIFAR-10 Batch 1:  Loss:1.483763 Validation Accuracy:0.433000\n",
      "Epoch  3, CIFAR-10 Batch 2:  Loss:1.516564 Validation Accuracy:0.441800\n",
      "Epoch  3, CIFAR-10 Batch 3:  Loss:1.387919 Validation Accuracy:0.457400\n",
      "Epoch  3, CIFAR-10 Batch 4:  Loss:1.402562 Validation Accuracy:0.474400\n",
      "Epoch  3, CIFAR-10 Batch 5:  Loss:1.377028 Validation Accuracy:0.486200\n",
      "Epoch  4, CIFAR-10 Batch 1:  Loss:1.312908 Validation Accuracy:0.500000\n",
      "Epoch  4, CIFAR-10 Batch 2:  Loss:1.481331 Validation Accuracy:0.453000\n",
      "Epoch  4, CIFAR-10 Batch 3:  Loss:1.294307 Validation Accuracy:0.484000\n",
      "Epoch  4, CIFAR-10 Batch 4:  Loss:1.356888 Validation Accuracy:0.479000\n",
      "Epoch  4, CIFAR-10 Batch 5:  Loss:1.272724 Validation Accuracy:0.522200\n",
      "Epoch  5, CIFAR-10 Batch 1:  Loss:1.232083 Validation Accuracy:0.538000\n",
      "Epoch  5, CIFAR-10 Batch 2:  Loss:1.295873 Validation Accuracy:0.517000\n",
      "Epoch  5, CIFAR-10 Batch 3:  Loss:1.152797 Validation Accuracy:0.547400\n",
      "Epoch  5, CIFAR-10 Batch 4:  Loss:1.151621 Validation Accuracy:0.560000\n",
      "Epoch  5, CIFAR-10 Batch 5:  Loss:1.200666 Validation Accuracy:0.526600\n",
      "Epoch  6, CIFAR-10 Batch 1:  Loss:1.147883 Validation Accuracy:0.573800\n",
      "Epoch  6, CIFAR-10 Batch 2:  Loss:1.215153 Validation Accuracy:0.550400\n",
      "Epoch  6, CIFAR-10 Batch 3:  Loss:1.114893 Validation Accuracy:0.542000\n",
      "Epoch  6, CIFAR-10 Batch 4:  Loss:1.093085 Validation Accuracy:0.581000\n",
      "Epoch  6, CIFAR-10 Batch 5:  Loss:1.092534 Validation Accuracy:0.568600\n",
      "Epoch  7, CIFAR-10 Batch 1:  Loss:1.070478 Validation Accuracy:0.586800\n",
      "Epoch  7, CIFAR-10 Batch 2:  Loss:1.100427 Validation Accuracy:0.587000\n",
      "Epoch  7, CIFAR-10 Batch 3:  Loss:1.071383 Validation Accuracy:0.573400\n",
      "Epoch  7, CIFAR-10 Batch 4:  Loss:1.025120 Validation Accuracy:0.599400\n",
      "Epoch  7, CIFAR-10 Batch 5:  Loss:0.990755 Validation Accuracy:0.608000\n",
      "Epoch  8, CIFAR-10 Batch 1:  Loss:1.006575 Validation Accuracy:0.600000\n",
      "Epoch  8, CIFAR-10 Batch 2:  Loss:1.014319 Validation Accuracy:0.617000\n",
      "Epoch  8, CIFAR-10 Batch 3:  Loss:0.950256 Validation Accuracy:0.609000\n",
      "Epoch  8, CIFAR-10 Batch 4:  Loss:0.948355 Validation Accuracy:0.614400\n",
      "Epoch  8, CIFAR-10 Batch 5:  Loss:0.911565 Validation Accuracy:0.626600\n",
      "Epoch  9, CIFAR-10 Batch 1:  Loss:0.962835 Validation Accuracy:0.626000\n",
      "Epoch  9, CIFAR-10 Batch 2:  Loss:0.955245 Validation Accuracy:0.630600\n",
      "Epoch  9, CIFAR-10 Batch 3:  Loss:0.898621 Validation Accuracy:0.628400\n",
      "Epoch  9, CIFAR-10 Batch 4:  Loss:0.904348 Validation Accuracy:0.635400\n",
      "Epoch  9, CIFAR-10 Batch 5:  Loss:0.864387 Validation Accuracy:0.636800\n",
      "Epoch 10, CIFAR-10 Batch 1:  Loss:0.851494 Validation Accuracy:0.655400\n",
      "Epoch 10, CIFAR-10 Batch 2:  Loss:0.948227 Validation Accuracy:0.625000\n",
      "Epoch 10, CIFAR-10 Batch 3:  Loss:0.846343 Validation Accuracy:0.637000\n",
      "Epoch 10, CIFAR-10 Batch 4:  Loss:0.837036 Validation Accuracy:0.662400\n",
      "Epoch 10, CIFAR-10 Batch 5:  Loss:0.761712 Validation Accuracy:0.674400\n",
      "Epoch 11, CIFAR-10 Batch 1:  Loss:0.837769 Validation Accuracy:0.656200\n",
      "Epoch 11, CIFAR-10 Batch 2:  Loss:0.880645 Validation Accuracy:0.662400\n",
      "Epoch 11, CIFAR-10 Batch 3:  Loss:0.795964 Validation Accuracy:0.667200\n",
      "Epoch 11, CIFAR-10 Batch 4:  Loss:0.812018 Validation Accuracy:0.674000\n",
      "Epoch 11, CIFAR-10 Batch 5:  Loss:0.760404 Validation Accuracy:0.660200\n",
      "Epoch 12, CIFAR-10 Batch 1:  Loss:0.791143 Validation Accuracy:0.668400\n",
      "Epoch 12, CIFAR-10 Batch 2:  Loss:0.883237 Validation Accuracy:0.644200\n",
      "Epoch 12, CIFAR-10 Batch 3:  Loss:0.769793 Validation Accuracy:0.667800\n",
      "Epoch 12, CIFAR-10 Batch 4:  Loss:0.787101 Validation Accuracy:0.674800\n",
      "Epoch 12, CIFAR-10 Batch 5:  Loss:0.684984 Validation Accuracy:0.683000\n",
      "Epoch 13, CIFAR-10 Batch 1:  Loss:0.758061 Validation Accuracy:0.671800\n",
      "Epoch 13, CIFAR-10 Batch 2:  Loss:0.747806 Validation Accuracy:0.689200\n",
      "Epoch 13, CIFAR-10 Batch 3:  Loss:0.668784 Validation Accuracy:0.703000\n",
      "Epoch 13, CIFAR-10 Batch 4:  Loss:0.695086 Validation Accuracy:0.697800\n",
      "Epoch 13, CIFAR-10 Batch 5:  Loss:0.612399 Validation Accuracy:0.700400\n",
      "Epoch 14, CIFAR-10 Batch 1:  Loss:0.749327 Validation Accuracy:0.676800\n",
      "Epoch 14, CIFAR-10 Batch 2:  Loss:0.724823 Validation Accuracy:0.689400\n",
      "Epoch 14, CIFAR-10 Batch 3:  Loss:0.629614 Validation Accuracy:0.707400\n",
      "Epoch 14, CIFAR-10 Batch 4:  Loss:0.637399 Validation Accuracy:0.707200\n",
      "Epoch 14, CIFAR-10 Batch 5:  Loss:0.593129 Validation Accuracy:0.699400\n",
      "Epoch 15, CIFAR-10 Batch 1:  Loss:0.704839 Validation Accuracy:0.691000\n",
      "Epoch 15, CIFAR-10 Batch 2:  Loss:0.692422 Validation Accuracy:0.689600\n",
      "Epoch 15, CIFAR-10 Batch 3:  Loss:0.629475 Validation Accuracy:0.697200\n",
      "Epoch 15, CIFAR-10 Batch 4:  Loss:0.641826 Validation Accuracy:0.699600\n",
      "Epoch 15, CIFAR-10 Batch 5:  Loss:0.553640 Validation Accuracy:0.704000\n",
      "Epoch 16, CIFAR-10 Batch 1:  Loss:0.614593 Validation Accuracy:0.707400\n",
      "Epoch 16, CIFAR-10 Batch 2:  Loss:0.641868 Validation Accuracy:0.703200\n",
      "Epoch 16, CIFAR-10 Batch 3:  Loss:0.605591 Validation Accuracy:0.700000\n",
      "Epoch 16, CIFAR-10 Batch 4:  Loss:0.583868 Validation Accuracy:0.706600\n",
      "Epoch 16, CIFAR-10 Batch 5:  Loss:0.522159 Validation Accuracy:0.703200\n",
      "Epoch 17, CIFAR-10 Batch 1:  Loss:0.574968 Validation Accuracy:0.712200\n",
      "Epoch 17, CIFAR-10 Batch 2:  Loss:0.615912 Validation Accuracy:0.710200\n",
      "Epoch 17, CIFAR-10 Batch 3:  Loss:0.605821 Validation Accuracy:0.698000\n",
      "Epoch 17, CIFAR-10 Batch 4:  Loss:0.581676 Validation Accuracy:0.705200\n",
      "Epoch 17, CIFAR-10 Batch 5:  Loss:0.493586 Validation Accuracy:0.711200\n",
      "Epoch 18, CIFAR-10 Batch 1:  Loss:0.532667 Validation Accuracy:0.712800\n",
      "Epoch 18, CIFAR-10 Batch 2:  Loss:0.587998 Validation Accuracy:0.705800\n",
      "Epoch 18, CIFAR-10 Batch 3:  Loss:0.509956 Validation Accuracy:0.728600\n",
      "Epoch 18, CIFAR-10 Batch 4:  Loss:0.547542 Validation Accuracy:0.712000\n",
      "Epoch 18, CIFAR-10 Batch 5:  Loss:0.490014 Validation Accuracy:0.708000\n",
      "Epoch 19, CIFAR-10 Batch 1:  Loss:0.515199 Validation Accuracy:0.717800\n",
      "Epoch 19, CIFAR-10 Batch 2:  Loss:0.569472 Validation Accuracy:0.710000\n",
      "Epoch 19, CIFAR-10 Batch 3:  Loss:0.531488 Validation Accuracy:0.715600\n",
      "Epoch 19, CIFAR-10 Batch 4:  Loss:0.500787 Validation Accuracy:0.727200\n",
      "Epoch 19, CIFAR-10 Batch 5:  Loss:0.471813 Validation Accuracy:0.707400\n",
      "Epoch 20, CIFAR-10 Batch 1:  Loss:0.506338 Validation Accuracy:0.709600\n",
      "Epoch 20, CIFAR-10 Batch 2:  Loss:0.584721 Validation Accuracy:0.695800\n",
      "Epoch 20, CIFAR-10 Batch 3:  Loss:0.512237 Validation Accuracy:0.708400\n",
      "Epoch 20, CIFAR-10 Batch 4:  Loss:0.500452 Validation Accuracy:0.716200\n",
      "Epoch 20, CIFAR-10 Batch 5:  Loss:0.465152 Validation Accuracy:0.706400\n",
      "Epoch 21, CIFAR-10 Batch 1:  Loss:0.501190 Validation Accuracy:0.708000\n",
      "Epoch 21, CIFAR-10 Batch 2:  Loss:0.528853 Validation Accuracy:0.716000\n",
      "Epoch 21, CIFAR-10 Batch 3:  Loss:0.525661 Validation Accuracy:0.699400\n",
      "Epoch 21, CIFAR-10 Batch 4:  Loss:0.493005 Validation Accuracy:0.708800\n",
      "Epoch 21, CIFAR-10 Batch 5:  Loss:0.426626 Validation Accuracy:0.713600\n",
      "Epoch 22, CIFAR-10 Batch 1:  Loss:0.472536 Validation Accuracy:0.720800\n",
      "Epoch 22, CIFAR-10 Batch 2:  Loss:0.532402 Validation Accuracy:0.726800\n",
      "Epoch 22, CIFAR-10 Batch 3:  Loss:0.474867 Validation Accuracy:0.713800\n",
      "Epoch 22, CIFAR-10 Batch 4:  Loss:0.498348 Validation Accuracy:0.709200\n",
      "Epoch 22, CIFAR-10 Batch 5:  Loss:0.401197 Validation Accuracy:0.722600\n",
      "Epoch 23, CIFAR-10 Batch 1:  Loss:0.465338 Validation Accuracy:0.713600\n",
      "Epoch 23, CIFAR-10 Batch 2:  Loss:0.477666 Validation Accuracy:0.725800\n",
      "Epoch 23, CIFAR-10 Batch 3:  Loss:0.415865 Validation Accuracy:0.719200\n",
      "Epoch 23, CIFAR-10 Batch 4:  Loss:0.438473 Validation Accuracy:0.714200\n"
     ]
    },
    {
     "name": "stdout",
     "output_type": "stream",
     "text": [
      "Epoch 23, CIFAR-10 Batch 5:  Loss:0.356819 Validation Accuracy:0.717200\n",
      "Epoch 24, CIFAR-10 Batch 1:  Loss:0.449343 Validation Accuracy:0.719400\n",
      "Epoch 24, CIFAR-10 Batch 2:  Loss:0.495254 Validation Accuracy:0.725800\n",
      "Epoch 24, CIFAR-10 Batch 3:  Loss:0.418198 Validation Accuracy:0.722400\n",
      "Epoch 24, CIFAR-10 Batch 4:  Loss:0.383940 Validation Accuracy:0.721800\n",
      "Epoch 24, CIFAR-10 Batch 5:  Loss:0.333302 Validation Accuracy:0.727600\n",
      "Epoch 25, CIFAR-10 Batch 1:  Loss:0.444440 Validation Accuracy:0.720400\n",
      "Epoch 25, CIFAR-10 Batch 2:  Loss:0.500459 Validation Accuracy:0.716200\n",
      "Epoch 25, CIFAR-10 Batch 3:  Loss:0.410491 Validation Accuracy:0.728200\n",
      "Epoch 25, CIFAR-10 Batch 4:  Loss:0.374074 Validation Accuracy:0.724400\n",
      "Epoch 25, CIFAR-10 Batch 5:  Loss:0.321887 Validation Accuracy:0.728400\n",
      "Epoch 26, CIFAR-10 Batch 1:  Loss:0.393252 Validation Accuracy:0.725000\n",
      "Epoch 26, CIFAR-10 Batch 2:  Loss:0.444161 Validation Accuracy:0.724000\n",
      "Epoch 26, CIFAR-10 Batch 3:  Loss:0.370542 Validation Accuracy:0.728000\n",
      "Epoch 26, CIFAR-10 Batch 4:  Loss:0.316153 Validation Accuracy:0.745000\n",
      "Epoch 26, CIFAR-10 Batch 5:  Loss:0.313223 Validation Accuracy:0.723000\n",
      "Epoch 27, CIFAR-10 Batch 1:  Loss:0.324971 Validation Accuracy:0.739600\n",
      "Epoch 27, CIFAR-10 Batch 2:  Loss:0.387619 Validation Accuracy:0.726800\n",
      "Epoch 27, CIFAR-10 Batch 3:  Loss:0.383388 Validation Accuracy:0.713600\n",
      "Epoch 27, CIFAR-10 Batch 4:  Loss:0.294896 Validation Accuracy:0.742400\n",
      "Epoch 27, CIFAR-10 Batch 5:  Loss:0.289516 Validation Accuracy:0.722400\n",
      "Epoch 28, CIFAR-10 Batch 1:  Loss:0.326413 Validation Accuracy:0.726000\n",
      "Epoch 28, CIFAR-10 Batch 2:  Loss:0.370711 Validation Accuracy:0.735000\n",
      "Epoch 28, CIFAR-10 Batch 3:  Loss:0.279937 Validation Accuracy:0.740200\n",
      "Epoch 28, CIFAR-10 Batch 4:  Loss:0.292825 Validation Accuracy:0.734200\n",
      "Epoch 28, CIFAR-10 Batch 5:  Loss:0.237313 Validation Accuracy:0.725800\n",
      "Epoch 29, CIFAR-10 Batch 1:  Loss:0.349003 Validation Accuracy:0.718800\n",
      "Epoch 29, CIFAR-10 Batch 2:  Loss:0.355313 Validation Accuracy:0.730000\n",
      "Epoch 29, CIFAR-10 Batch 3:  Loss:0.290990 Validation Accuracy:0.739600\n",
      "Epoch 29, CIFAR-10 Batch 4:  Loss:0.304199 Validation Accuracy:0.723600\n",
      "Epoch 29, CIFAR-10 Batch 5:  Loss:0.204918 Validation Accuracy:0.733400\n",
      "Epoch 30, CIFAR-10 Batch 1:  Loss:0.314852 Validation Accuracy:0.737600\n",
      "Epoch 30, CIFAR-10 Batch 2:  Loss:0.392056 Validation Accuracy:0.715000\n",
      "Epoch 30, CIFAR-10 Batch 3:  Loss:0.308872 Validation Accuracy:0.734200\n",
      "Epoch 30, CIFAR-10 Batch 4:  Loss:0.300631 Validation Accuracy:0.722800\n",
      "Epoch 30, CIFAR-10 Batch 5:  Loss:0.196262 Validation Accuracy:0.737800\n"
     ]
    }
   ],
   "source": [
    "\"\"\"\n",
    "DON'T MODIFY ANYTHING IN THIS CELL\n",
    "\"\"\"\n",
    "save_model_path = './image_classification'\n",
    "\n",
    "print('Training...')\n",
    "with tf.Session() as sess:\n",
    "    # Initializing the variables\n",
    "    sess.run(tf.global_variables_initializer())\n",
    "    \n",
    "    # Training cycle\n",
    "    for epoch in range(epochs):\n",
    "        # Loop over all batches\n",
    "        n_batches = 5\n",
    "        for batch_i in range(1, n_batches + 1):\n",
    "            for batch_features, batch_labels in helper.load_preprocess_training_batch(batch_i, batch_size):\n",
    "                train_neural_network(sess, optimizer, keep_probability, batch_features, batch_labels)\n",
    "            print('Epoch {:>2}, CIFAR-10 Batch {}:  '.format(epoch + 1, batch_i), end='')\n",
    "            print_stats(sess, batch_features, batch_labels, cost, accuracy)\n",
    "            \n",
    "    # Save Model\n",
    "    saver = tf.train.Saver()\n",
    "    save_path = saver.save(sess, save_model_path)"
   ]
  },
  {
   "cell_type": "markdown",
   "metadata": {},
   "source": [
    "# Checkpoint\n",
    "The model has been saved to disk.\n",
    "## Test Model\n",
    "Test your model against the test dataset.  This will be your final accuracy. You should have an accuracy greater than 50%. If you don't, keep tweaking the model architecture and parameters."
   ]
  },
  {
   "cell_type": "code",
   "execution_count": 135,
   "metadata": {},
   "outputs": [
    {
     "name": "stdout",
     "output_type": "stream",
     "text": [
      "INFO:tensorflow:Restoring parameters from ./image_classification\n",
      "Testing Accuracy: 0.733793044090271\n",
      "\n"
     ]
    },
    {
     "data": {
      "image/png": "[encoded data removed]",
      "text/plain": [
       "<matplotlib.figure.Figure at 0x7fbb1fb01438>"
      ]
     },
     "metadata": {
      "image/png": {
       "height": 319,
       "width": 355
      }
     },
     "output_type": "display_data"
    }
   ],
   "source": [
    "\"\"\"\n",
    "DON'T MODIFY ANYTHING IN THIS CELL\n",
    "\"\"\"\n",
    "%matplotlib inline\n",
    "%config InlineBackend.figure_format = 'retina'\n",
    "\n",
    "import tensorflow as tf\n",
    "import pickle\n",
    "import helper\n",
    "import random\n",
    "\n",
    "# Set batch size if not already set\n",
    "try:\n",
    "    if batch_size:\n",
    "        pass\n",
    "except NameError:\n",
    "    batch_size = 64\n",
    "\n",
    "save_model_path = './image_classification'\n",
    "n_samples = 4\n",
    "top_n_predictions = 3\n",
    "\n",
    "def test_model():\n",
    "    \"\"\"\n",
    "    Test the saved model against the test dataset\n",
    "    \"\"\"\n",
    "\n",
    "    test_features, test_labels = pickle.load(open('preprocess_test.p', mode='rb'))\n",
    "    loaded_graph = tf.Graph()\n",
    "\n",
    "    with tf.Session(graph=loaded_graph) as sess:\n",
    "        # Load model\n",
    "        loader = tf.train.import_meta_graph(save_model_path + '.meta')\n",
    "        loader.restore(sess, save_model_path)\n",
    "\n",
    "        # Get Tensors from loaded model\n",
    "        loaded_x = loaded_graph.get_tensor_by_name('x:0')\n",
    "        loaded_y = loaded_graph.get_tensor_by_name('y:0')\n",
    "        loaded_keep_prob = loaded_graph.get_tensor_by_name('keep_prob:0')\n",
    "        loaded_logits = loaded_graph.get_tensor_by_name('logits:0')\n",
    "        loaded_acc = loaded_graph.get_tensor_by_name('accuracy:0')\n",
    "        \n",
    "        # Get accuracy in batches for memory limitations\n",
    "        test_batch_acc_total = 0\n",
    "        test_batch_count = 0\n",
    "        \n",
    "        for test_feature_batch, test_label_batch in helper.batch_features_labels(test_features, test_labels, batch_size):\n",
    "            test_batch_acc_total += sess.run(\n",
    "                loaded_acc,\n",
    "                feed_dict={loaded_x: test_feature_batch, loaded_y: test_label_batch, loaded_keep_prob: 1.0})\n",
    "            test_batch_count += 1\n",
    "\n",
    "        print('Testing Accuracy: {}\\n'.format(test_batch_acc_total/test_batch_count))\n",
    "\n",
    "        # Print Random Samples\n",
    "        random_test_features, random_test_labels = tuple(zip(*random.sample(list(zip(test_features, test_labels)), n_samples)))\n",
    "        random_test_predictions = sess.run(\n",
    "            tf.nn.top_k(tf.nn.softmax(loaded_logits), top_n_predictions),\n",
    "            feed_dict={loaded_x: random_test_features, loaded_y: random_test_labels, loaded_keep_prob: 1.0})\n",
    "        helper.display_image_predictions(random_test_features, random_test_labels, random_test_predictions)\n",
    "\n",
    "\n",
    "test_model()"
   ]
  },
  {
   "cell_type": "markdown",
   "metadata": {},
   "source": [
    "## Why 50-80% Accuracy?\n",
    "You might be wondering why you can't get an accuracy any higher. First things first, 50% isn't bad for a simple CNN.  Pure guessing would get you 10% accuracy. However, you might notice people are getting scores [well above 80%](http://rodrigob.github.io/are_we_there_yet/build/classification_datasets_results.html#43494641522d3130).  That's because we haven't taught you all there is to know about neural networks. We still need to cover a few more techniques.\n",
    "## Submitting This Project\n",
    "When submitting this project, make sure to run all the cells before saving the notebook.  Save the notebook file as \"dlnd_image_classification.ipynb\" and save it as a HTML file under \"File\" -> \"Download as\".  Include the \"helper.py\" and \"problem_unittests.py\" files in your submission."
   ]
  }
 ],
 "metadata": {
  "kernelspec": {
   "display_name": "Python 3",
   "language": "python",
   "name": "python3"
  },
  "language_info": {
   "codemirror_mode": {
    "name": "ipython",
    "version": 3
   },
   "file_extension": ".py",
   "mimetype": "text/x-python",
   "name": "python",
   "nbconvert_exporter": "python",
   "pygments_lexer": "ipython3",
   "version": "3.5.3"
  }
 },
 "nbformat": 4,
 "nbformat_minor": 1
}
